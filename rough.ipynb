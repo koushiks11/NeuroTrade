{
 "cells": [
  {
   "cell_type": "code",
   "execution_count": 11,
   "id": "60d9f0f9",
   "metadata": {},
   "outputs": [
    {
     "name": "stderr",
     "output_type": "stream",
     "text": [
      "WARNING:absl:Compiled the loaded model, but the compiled metrics have yet to be built. `model.compile_metrics` will be empty until you train or evaluate the model.\n"
     ]
    },
    {
     "name": "stdout",
     "output_type": "stream",
     "text": [
      "Enter a date : 2023-01-02\n"
     ]
    },
    {
     "ename": "UnboundLocalError",
     "evalue": "cannot access local variable 'temp_input' where it is not associated with a value",
     "output_type": "error",
     "traceback": [
      "\u001b[1;31m---------------------------------------------------------------------------\u001b[0m",
      "\u001b[1;31mUnboundLocalError\u001b[0m                         Traceback (most recent call last)",
      "Cell \u001b[1;32mIn[11], line 85\u001b[0m\n\u001b[0;32m     81\u001b[0m input_date \u001b[38;5;241m=\u001b[39m \u001b[38;5;28minput\u001b[39m(\u001b[38;5;124m\"\u001b[39m\u001b[38;5;124mEnter a date : \u001b[39m\u001b[38;5;124m\"\u001b[39m)\n\u001b[0;32m     83\u001b[0m \u001b[38;5;66;03m# Predict closing price when user submits the date\u001b[39;00m\n\u001b[0;32m     84\u001b[0m \u001b[38;5;66;03m# if st.button(\"Predict Closing Price\"):\u001b[39;00m\n\u001b[1;32m---> 85\u001b[0m predicted_price \u001b[38;5;241m=\u001b[39m \u001b[43mpredict_closing_price\u001b[49m\u001b[43m(\u001b[49m\u001b[38;5;28;43mstr\u001b[39;49m\u001b[43m(\u001b[49m\u001b[43minput_date\u001b[49m\u001b[43m)\u001b[49m\u001b[43m)\u001b[49m\n\u001b[0;32m     86\u001b[0m st\u001b[38;5;241m.\u001b[39mwrite(\u001b[38;5;124mf\u001b[39m\u001b[38;5;124m\"\u001b[39m\u001b[38;5;124mPredicted Closing Price for \u001b[39m\u001b[38;5;132;01m{\u001b[39;00minput_date\u001b[38;5;132;01m}\u001b[39;00m\u001b[38;5;124m: \u001b[39m\u001b[38;5;132;01m{\u001b[39;00mpredicted_price\u001b[38;5;132;01m}\u001b[39;00m\u001b[38;5;124m\"\u001b[39m)\n",
      "Cell \u001b[1;32mIn[11], line 52\u001b[0m, in \u001b[0;36mpredict_closing_price\u001b[1;34m(input_date)\u001b[0m\n\u001b[0;32m     49\u001b[0m i\u001b[38;5;241m=\u001b[39m\u001b[38;5;241m0\u001b[39m\n\u001b[0;32m     50\u001b[0m \u001b[38;5;28;01mwhile\u001b[39;00m(i\u001b[38;5;241m<\u001b[39m\u001b[38;5;241m100\u001b[39m):\n\u001b[1;32m---> 52\u001b[0m     \u001b[38;5;28;01mif\u001b[39;00m(\u001b[38;5;28mlen\u001b[39m(\u001b[43mtemp_input\u001b[49m)\u001b[38;5;241m>\u001b[39m\u001b[38;5;241m100\u001b[39m):\n\u001b[0;32m     53\u001b[0m         \u001b[38;5;66;03m#print(temp_input)\u001b[39;00m\n\u001b[0;32m     54\u001b[0m         x_input\u001b[38;5;241m=\u001b[39mnp\u001b[38;5;241m.\u001b[39marray(temp_input[\u001b[38;5;241m1\u001b[39m:])\n\u001b[0;32m     55\u001b[0m         \u001b[38;5;28mprint\u001b[39m(\u001b[38;5;124m\"\u001b[39m\u001b[38;5;132;01m{}\u001b[39;00m\u001b[38;5;124m day input \u001b[39m\u001b[38;5;132;01m{}\u001b[39;00m\u001b[38;5;124m\"\u001b[39m\u001b[38;5;241m.\u001b[39mformat(i,x_input))\n",
      "\u001b[1;31mUnboundLocalError\u001b[0m: cannot access local variable 'temp_input' where it is not associated with a value"
     ]
    }
   ],
   "source": [
    "import streamlit as st\n",
    "from datetime import datetime\n",
    "import numpy as np\n",
    "import pandas as pd\n",
    "from tensorflow.keras.models import load_model\n",
    "from sklearn.preprocessing import MinMaxScaler\n",
    "from numpy import array\n",
    "\n",
    "df=pd.read_csv('output.csv')\n",
    "df=df.tail(100)\n",
    "df1=df.reset_index()['high']\n",
    "\n",
    "scaler=MinMaxScaler(feature_range=(0,1))\n",
    "df1=scaler.fit_transform(np.array(df1).reshape(-1,1))\n",
    "\n",
    "x_input = df1[:,:1]\n",
    "x_input=x_input.reshape(1,-1)\n",
    "temp_input=list(x_input)\n",
    "temp_input=temp_input[0].tolist()\n",
    "\n",
    "# Load the saved model\n",
    "model = load_model(\"stock_prediction_model.h5\")\n",
    "\n",
    "# Load the scaler parameters\n",
    "try:\n",
    "    data = np.load(\"scaler_parameters.npz\")\n",
    "    scaler_min = data['min_']\n",
    "    scaler_scale = data['scale_']\n",
    "\n",
    "except Exception as e:\n",
    "    st.error(f\"Error loading the scaler parameters: {e}\")\n",
    "    st.stop()\n",
    "\n",
    "# Function to scale the input date\n",
    "def difference_in_days(input_date):\n",
    "    reference_date = datetime.strptime(\"2022-12-30\", \"%Y-%m-%d\")\n",
    "    input_date = datetime.strptime(input_date, \"%Y-%m-%d\")\n",
    "    difference_in_days = (input_date - reference_date).days\n",
    "    # scaled_input = (difference_in_days - scaler_min) / scaler_scale\n",
    "    return difference_in_days\n",
    "\n",
    "\n",
    "\n",
    "# Function to predict closing price for a given date\n",
    "def predict_closing_price(input_date):\n",
    "    days = difference_in_days(input_date)\n",
    "    lst_output=[]\n",
    "    n_steps=100\n",
    "    i=0\n",
    "    while(i<100):\n",
    "    \n",
    "        if(len(temp_input)>100):\n",
    "            #print(temp_input)\n",
    "            x_input=np.array(temp_input[1:])\n",
    "            print(\"{} day input {}\".format(i,x_input))\n",
    "            x_input=x_input.reshape(1,-1)\n",
    "            x_input = x_input.reshape((1, n_steps, 1))\n",
    "            #print(x_input)\n",
    "            yhat = model.predict(x_input, verbose=0)\n",
    "            print(\"{} day output {}\".format(i,yhat))\n",
    "            temp_input.extend(yhat[0].tolist())\n",
    "            temp_input=temp_input[1:]\n",
    "            #print(temp_input)\n",
    "            lst_output.extend(yhat.tolist())\n",
    "            i=i+1\n",
    "        else:\n",
    "            x_input = x_input.reshape((1, n_steps,1))\n",
    "            yhat = model.predict(x_input, verbose=0)\n",
    "            print(yhat[0])\n",
    "            temp_input.extend(yhat[0].tolist())\n",
    "            print(len(temp_input))\n",
    "            lst_output.extend(yhat.tolist())\n",
    "            i=i+1\n",
    "    lst_output=scaler.inverse_transform(lst_output)\n",
    "    return lst_output[0][99]\n",
    "\n",
    "# Streamlit app\n",
    "st.title(\"Stock Closing Price Predictor\")\n",
    "\n",
    "# Date input from user\n",
    "input_date = input(\"Enter a date : \")\n",
    "\n",
    "# Predict closing price when user submits the date\n",
    "# if st.button(\"Predict Closing Price\"):\n",
    "predicted_price = predict_closing_price(str(input_date))\n",
    "st.write(f\"Predicted Closing Price for {input_date}: {predicted_price}\")\n"
   ]
  },
  {
   "cell_type": "code",
   "execution_count": 2,
   "id": "d26dbb37",
   "metadata": {},
   "outputs": [
    {
     "data": {
      "text/plain": [
       "array([[2348.26654277],\n",
       "       [2357.63330483],\n",
       "       [2363.37493635]])"
      ]
     },
     "execution_count": 2,
     "metadata": {},
     "output_type": "execute_result"
    }
   ],
   "source": [
    "predicted_price"
   ]
  },
  {
   "cell_type": "code",
   "execution_count": 9,
   "id": "89d896ff",
   "metadata": {
    "scrolled": true
   },
   "outputs": [
    {
     "data": {
      "text/plain": [
       "array([2363.37493635])"
      ]
     },
     "execution_count": 9,
     "metadata": {},
     "output_type": "execute_result"
    }
   ],
   "source": [
    "predicted_price[2]"
   ]
  },
  {
   "cell_type": "code",
   "execution_count": 13,
   "id": "87f6b066",
   "metadata": {},
   "outputs": [
    {
     "name": "stderr",
     "output_type": "stream",
     "text": [
      "WARNING:absl:Compiled the loaded model, but the compiled metrics have yet to be built. `model.compile_metrics` will be empty until you train or evaluate the model.\n"
     ]
    },
    {
     "name": "stdout",
     "output_type": "stream",
     "text": [
      "Enter a date : 2023-01-02\n"
     ]
    }
   ],
   "source": [
    "import streamlit as st\n",
    "from datetime import datetime\n",
    "import numpy as np\n",
    "import pandas as pd\n",
    "from tensorflow.keras.models import load_model\n",
    "from sklearn.preprocessing import MinMaxScaler\n",
    "from numpy import array\n",
    "\n",
    "\n",
    "\n",
    "# Load the saved model\n",
    "model = load_model(\"stock_prediction_model.h5\")\n",
    "\n",
    "# Function to scale the input date\n",
    "def difference_in_days(input_date):\n",
    "    reference_date = datetime.strptime(\"2022-12-30\", \"%Y-%m-%d\")\n",
    "    input_date = datetime.strptime(input_date, \"%Y-%m-%d\")\n",
    "    difference_in_days = (input_date - reference_date).days\n",
    "    # scaled_input = (difference_in_days - scaler_min) / scaler_scale\n",
    "    return difference_in_days\n",
    "\n",
    "\n",
    "# Function to predict closing price for a given date\n",
    "def predict_closing_price(input_date):\n",
    "    days = difference_in_days(input_date)\n",
    "    df=pd.read_csv('output.csv')\n",
    "    df=df.tail(100)\n",
    "    df1=df.reset_index()['high']\n",
    "\n",
    "    scaler=MinMaxScaler(feature_range=(0,1))\n",
    "    df1=scaler.fit_transform(np.array(df1).reshape(-1,1))\n",
    "\n",
    "    x_input = df1[:,:1]\n",
    "    x_input=x_input.reshape(1,-1)\n",
    "    temp_input=list(x_input)\n",
    "    temp_input=temp_input[0].tolist()\n",
    "    lst_output=[]\n",
    "    n_steps=100\n",
    "    i=0\n",
    "    while(i<100):\n",
    "    \n",
    "        if(len(temp_input)>100):\n",
    "            #print(temp_input)\n",
    "            x_input=np.array(temp_input[1:])\n",
    "#             print(\"{} day input {}\".format(i,x_input))\n",
    "            x_input=x_input.reshape(1,-1)\n",
    "            x_input = x_input.reshape((1, n_steps, 1))\n",
    "            #print(x_input)\n",
    "            yhat = model.predict(x_input, verbose=0)\n",
    "#             print(\"{} day output {}\".format(i,yhat))\n",
    "            temp_input.extend(yhat[0].tolist())\n",
    "            temp_input=temp_input[1:]\n",
    "            #print(temp_input)\n",
    "            lst_output.extend(yhat.tolist())\n",
    "            i=i+1\n",
    "        else:\n",
    "            x_input = x_input.reshape((1, n_steps,1))\n",
    "            yhat = model.predict(x_input, verbose=0)\n",
    "#             print(yhat[0])\n",
    "            temp_input.extend(yhat[0].tolist())\n",
    "#             print(len(temp_input))\n",
    "            lst_output.extend(yhat.tolist())\n",
    "            i=i+1\n",
    "    lst_output=scaler.inverse_transform(lst_output)\n",
    "    return lst_output[90]\n",
    "\n",
    "# Streamlit app\n",
    "# st.title(\"Stock Closing Price Predictor\")\n",
    "\n",
    "# Date input from user\n",
    "input_date = input(\"Enter a date : \")\n",
    "\n",
    "# Predict closing price when user submits the date\n",
    "# if st.button(\"Predict Closing Price\"):\n",
    "predicted_price = predict_closing_price(str(input_date))\n",
    "st.write(f\"Predicted Closing Price for {input_date}: {predicted_price}\")\n"
   ]
  },
  {
   "cell_type": "code",
   "execution_count": 14,
   "id": "2d1b0fca",
   "metadata": {},
   "outputs": [
    {
     "data": {
      "text/plain": [
       "array([2467.30652386])"
      ]
     },
     "execution_count": 14,
     "metadata": {},
     "output_type": "execute_result"
    }
   ],
   "source": [
    "predicted_price"
   ]
  },
  {
   "cell_type": "code",
   "execution_count": 17,
   "id": "a477a0fb",
   "metadata": {},
   "outputs": [],
   "source": [
    "from datetime import datetime, timedelta\n"
   ]
  },
  {
   "cell_type": "code",
   "execution_count": 23,
   "id": "9b98801e",
   "metadata": {},
   "outputs": [],
   "source": [
    "def difference_in_days(input_date):\n",
    "    reference_date = datetime.strptime(\"2022-12-30\", \"%Y-%m-%d\")\n",
    "    input_date = datetime.strptime(input_date, \"%Y-%m-%d\")\n",
    "    delta = timedelta(days=1)\n",
    "    if input_date >= reference_date:\n",
    "        difference_in_days = 0\n",
    "        while input_date > reference_date:\n",
    "            if input_date.weekday() < 5:  # Monday to Friday\n",
    "                difference_in_days += 1\n",
    "            input_date -= delta\n",
    "        return difference_in_days\n",
    "    else:\n",
    "        return -(reference_date - input_date).days"
   ]
  },
  {
   "cell_type": "code",
   "execution_count": 24,
   "id": "d832fa68",
   "metadata": {},
   "outputs": [
    {
     "data": {
      "text/plain": [
       "-730"
      ]
     },
     "execution_count": 24,
     "metadata": {},
     "output_type": "execute_result"
    }
   ],
   "source": [
    "difference_in_days(\"2020-12-30\")"
   ]
  }
 ],
 "metadata": {
  "kernelspec": {
   "display_name": "Python 3 (ipykernel)",
   "language": "python",
   "name": "python3"
  },
  "language_info": {
   "codemirror_mode": {
    "name": "ipython",
    "version": 3
   },
   "file_extension": ".py",
   "mimetype": "text/x-python",
   "name": "python",
   "nbconvert_exporter": "python",
   "pygments_lexer": "ipython3",
   "version": "3.11.1"
  }
 },
 "nbformat": 4,
 "nbformat_minor": 5
}
