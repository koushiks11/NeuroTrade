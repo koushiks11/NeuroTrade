{
 "cells": [
  {
   "cell_type": "code",
   "execution_count": 63,
   "id": "b08ab668",
   "metadata": {},
   "outputs": [],
   "source": [
    "import pandas as pd\n"
   ]
  },
  {
   "cell_type": "code",
   "execution_count": 101,
   "id": "d2ebd335",
   "metadata": {},
   "outputs": [],
   "source": [
    "df=pd.read_csv('reliance_stock_data.csv')"
   ]
  },
  {
   "cell_type": "code",
   "execution_count": 65,
   "id": "0e85ba88",
   "metadata": {},
   "outputs": [
    {
     "data": {
      "text/html": [
       "<div>\n",
       "<style scoped>\n",
       "    .dataframe tbody tr th:only-of-type {\n",
       "        vertical-align: middle;\n",
       "    }\n",
       "\n",
       "    .dataframe tbody tr th {\n",
       "        vertical-align: top;\n",
       "    }\n",
       "\n",
       "    .dataframe thead th {\n",
       "        text-align: right;\n",
       "    }\n",
       "</style>\n",
       "<table border=\"1\" class=\"dataframe\">\n",
       "  <thead>\n",
       "    <tr style=\"text-align: right;\">\n",
       "      <th></th>\n",
       "      <th>Date</th>\n",
       "      <th>open</th>\n",
       "      <th>high</th>\n",
       "      <th>low</th>\n",
       "      <th>close</th>\n",
       "      <th>adjusted close</th>\n",
       "      <th>volume</th>\n",
       "      <th>dividend amount</th>\n",
       "      <th>split coefficient</th>\n",
       "    </tr>\n",
       "  </thead>\n",
       "  <tbody>\n",
       "    <tr>\n",
       "      <th>0</th>\n",
       "      <td>2005-01-03</td>\n",
       "      <td>354.4090</td>\n",
       "      <td>371.0715</td>\n",
       "      <td>354.4090</td>\n",
       "      <td>370.1173</td>\n",
       "      <td>79.2399</td>\n",
       "      <td>11842921</td>\n",
       "      <td>0.0</td>\n",
       "      <td>1.0</td>\n",
       "    </tr>\n",
       "    <tr>\n",
       "      <th>1</th>\n",
       "      <td>2005-01-04</td>\n",
       "      <td>364.5972</td>\n",
       "      <td>371.3782</td>\n",
       "      <td>360.8491</td>\n",
       "      <td>361.7351</td>\n",
       "      <td>77.4453</td>\n",
       "      <td>10059943</td>\n",
       "      <td>0.0</td>\n",
       "      <td>1.0</td>\n",
       "    </tr>\n",
       "    <tr>\n",
       "      <th>2</th>\n",
       "      <td>2005-01-05</td>\n",
       "      <td>358.1230</td>\n",
       "      <td>363.9158</td>\n",
       "      <td>351.8194</td>\n",
       "      <td>361.1217</td>\n",
       "      <td>77.3140</td>\n",
       "      <td>16954266</td>\n",
       "      <td>0.0</td>\n",
       "      <td>1.0</td>\n",
       "    </tr>\n",
       "    <tr>\n",
       "      <th>3</th>\n",
       "      <td>2005-01-06</td>\n",
       "      <td>357.7824</td>\n",
       "      <td>365.6195</td>\n",
       "      <td>356.1468</td>\n",
       "      <td>358.4297</td>\n",
       "      <td>76.7377</td>\n",
       "      <td>13446517</td>\n",
       "      <td>0.0</td>\n",
       "      <td>1.0</td>\n",
       "    </tr>\n",
       "    <tr>\n",
       "      <th>4</th>\n",
       "      <td>2005-01-07</td>\n",
       "      <td>359.8269</td>\n",
       "      <td>373.1159</td>\n",
       "      <td>359.5202</td>\n",
       "      <td>368.5840</td>\n",
       "      <td>78.9116</td>\n",
       "      <td>16969845</td>\n",
       "      <td>0.0</td>\n",
       "      <td>1.0</td>\n",
       "    </tr>\n",
       "  </tbody>\n",
       "</table>\n",
       "</div>"
      ],
      "text/plain": [
       "         Date      open      high       low     close  adjusted close  \\\n",
       "0  2005-01-03  354.4090  371.0715  354.4090  370.1173         79.2399   \n",
       "1  2005-01-04  364.5972  371.3782  360.8491  361.7351         77.4453   \n",
       "2  2005-01-05  358.1230  363.9158  351.8194  361.1217         77.3140   \n",
       "3  2005-01-06  357.7824  365.6195  356.1468  358.4297         76.7377   \n",
       "4  2005-01-07  359.8269  373.1159  359.5202  368.5840         78.9116   \n",
       "\n",
       "     volume  dividend amount  split coefficient  \n",
       "0  11842921              0.0                1.0  \n",
       "1  10059943              0.0                1.0  \n",
       "2  16954266              0.0                1.0  \n",
       "3  13446517              0.0                1.0  \n",
       "4  16969845              0.0                1.0  "
      ]
     },
     "execution_count": 65,
     "metadata": {},
     "output_type": "execute_result"
    }
   ],
   "source": [
    "df.head()"
   ]
  },
  {
   "cell_type": "code",
   "execution_count": 66,
   "id": "55a0059b",
   "metadata": {},
   "outputs": [
    {
     "data": {
      "text/html": [
       "<div>\n",
       "<style scoped>\n",
       "    .dataframe tbody tr th:only-of-type {\n",
       "        vertical-align: middle;\n",
       "    }\n",
       "\n",
       "    .dataframe tbody tr th {\n",
       "        vertical-align: top;\n",
       "    }\n",
       "\n",
       "    .dataframe thead th {\n",
       "        text-align: right;\n",
       "    }\n",
       "</style>\n",
       "<table border=\"1\" class=\"dataframe\">\n",
       "  <thead>\n",
       "    <tr style=\"text-align: right;\">\n",
       "      <th></th>\n",
       "      <th>Date</th>\n",
       "      <th>open</th>\n",
       "      <th>high</th>\n",
       "      <th>low</th>\n",
       "      <th>close</th>\n",
       "      <th>adjusted close</th>\n",
       "      <th>volume</th>\n",
       "      <th>dividend amount</th>\n",
       "      <th>split coefficient</th>\n",
       "    </tr>\n",
       "  </thead>\n",
       "  <tbody>\n",
       "    <tr>\n",
       "      <th>4749</th>\n",
       "      <td>2024-04-12</td>\n",
       "      <td>2955.00</td>\n",
       "      <td>2973.0</td>\n",
       "      <td>2925.70</td>\n",
       "      <td>2935.10</td>\n",
       "      <td>2935.10</td>\n",
       "      <td>677948</td>\n",
       "      <td>0.0</td>\n",
       "      <td>1.0</td>\n",
       "    </tr>\n",
       "    <tr>\n",
       "      <th>4750</th>\n",
       "      <td>2024-04-15</td>\n",
       "      <td>2908.65</td>\n",
       "      <td>2964.5</td>\n",
       "      <td>2893.15</td>\n",
       "      <td>2932.90</td>\n",
       "      <td>2932.90</td>\n",
       "      <td>301990</td>\n",
       "      <td>0.0</td>\n",
       "      <td>1.0</td>\n",
       "    </tr>\n",
       "    <tr>\n",
       "      <th>4751</th>\n",
       "      <td>2024-04-16</td>\n",
       "      <td>2909.95</td>\n",
       "      <td>2942.0</td>\n",
       "      <td>2902.10</td>\n",
       "      <td>2934.45</td>\n",
       "      <td>2934.45</td>\n",
       "      <td>157052</td>\n",
       "      <td>0.0</td>\n",
       "      <td>1.0</td>\n",
       "    </tr>\n",
       "    <tr>\n",
       "      <th>4752</th>\n",
       "      <td>2024-04-18</td>\n",
       "      <td>2929.00</td>\n",
       "      <td>2971.5</td>\n",
       "      <td>2919.00</td>\n",
       "      <td>2928.15</td>\n",
       "      <td>2928.15</td>\n",
       "      <td>205714</td>\n",
       "      <td>0.0</td>\n",
       "      <td>1.0</td>\n",
       "    </tr>\n",
       "    <tr>\n",
       "      <th>4753</th>\n",
       "      <td>2024-04-19</td>\n",
       "      <td>2918.95</td>\n",
       "      <td>2947.0</td>\n",
       "      <td>2886.75</td>\n",
       "      <td>2941.60</td>\n",
       "      <td>2941.60</td>\n",
       "      <td>530975</td>\n",
       "      <td>0.0</td>\n",
       "      <td>1.0</td>\n",
       "    </tr>\n",
       "  </tbody>\n",
       "</table>\n",
       "</div>"
      ],
      "text/plain": [
       "            Date     open    high      low    close  adjusted close  volume  \\\n",
       "4749  2024-04-12  2955.00  2973.0  2925.70  2935.10         2935.10  677948   \n",
       "4750  2024-04-15  2908.65  2964.5  2893.15  2932.90         2932.90  301990   \n",
       "4751  2024-04-16  2909.95  2942.0  2902.10  2934.45         2934.45  157052   \n",
       "4752  2024-04-18  2929.00  2971.5  2919.00  2928.15         2928.15  205714   \n",
       "4753  2024-04-19  2918.95  2947.0  2886.75  2941.60         2941.60  530975   \n",
       "\n",
       "      dividend amount  split coefficient  \n",
       "4749              0.0                1.0  \n",
       "4750              0.0                1.0  \n",
       "4751              0.0                1.0  \n",
       "4752              0.0                1.0  \n",
       "4753              0.0                1.0  "
      ]
     },
     "execution_count": 66,
     "metadata": {},
     "output_type": "execute_result"
    }
   ],
   "source": [
    "df.tail()"
   ]
  },
  {
   "cell_type": "code",
   "execution_count": 102,
   "id": "48c19fae",
   "metadata": {},
   "outputs": [],
   "source": [
    "df = df[-1654:]"
   ]
  },
  {
   "cell_type": "code",
   "execution_count": 88,
   "id": "65ec5f00",
   "metadata": {},
   "outputs": [
    {
     "data": {
      "text/html": [
       "<div>\n",
       "<style scoped>\n",
       "    .dataframe tbody tr th:only-of-type {\n",
       "        vertical-align: middle;\n",
       "    }\n",
       "\n",
       "    .dataframe tbody tr th {\n",
       "        vertical-align: top;\n",
       "    }\n",
       "\n",
       "    .dataframe thead th {\n",
       "        text-align: right;\n",
       "    }\n",
       "</style>\n",
       "<table border=\"1\" class=\"dataframe\">\n",
       "  <thead>\n",
       "    <tr style=\"text-align: right;\">\n",
       "      <th></th>\n",
       "      <th>Date</th>\n",
       "      <th>open</th>\n",
       "      <th>high</th>\n",
       "      <th>low</th>\n",
       "      <th>close</th>\n",
       "      <th>adjusted close</th>\n",
       "      <th>volume</th>\n",
       "      <th>dividend amount</th>\n",
       "      <th>split coefficient</th>\n",
       "    </tr>\n",
       "  </thead>\n",
       "  <tbody>\n",
       "    <tr>\n",
       "      <th>1653</th>\n",
       "      <td>2011-09-13</td>\n",
       "      <td>739.8703</td>\n",
       "      <td>751.2655</td>\n",
       "      <td>726.9253</td>\n",
       "      <td>739.1411</td>\n",
       "      <td>335.7168</td>\n",
       "      <td>1849397</td>\n",
       "      <td>0.0</td>\n",
       "      <td>1.0</td>\n",
       "    </tr>\n",
       "  </tbody>\n",
       "</table>\n",
       "</div>"
      ],
      "text/plain": [
       "            Date      open      high       low     close  adjusted close  \\\n",
       "1653  2011-09-13  739.8703  751.2655  726.9253  739.1411        335.7168   \n",
       "\n",
       "       volume  dividend amount  split coefficient  \n",
       "1653  1849397              0.0                1.0  "
      ]
     },
     "execution_count": 88,
     "metadata": {},
     "output_type": "execute_result"
    }
   ],
   "source": [
    "df[1653:1654]"
   ]
  },
  {
   "cell_type": "code",
   "execution_count": 103,
   "id": "470f78c2",
   "metadata": {},
   "outputs": [],
   "source": [
    "df1=df.reset_index()['high']"
   ]
  },
  {
   "cell_type": "code",
   "execution_count": 104,
   "id": "a8e237f2",
   "metadata": {},
   "outputs": [
    {
     "data": {
      "text/plain": [
       "0       1517.8463\n",
       "1       1516.2055\n",
       "2       1487.7630\n",
       "3       1477.7352\n",
       "4       1476.7323\n",
       "          ...    \n",
       "1649    2973.0000\n",
       "1650    2964.5000\n",
       "1651    2942.0000\n",
       "1652    2971.5000\n",
       "1653    2947.0000\n",
       "Name: high, Length: 1654, dtype: float64"
      ]
     },
     "execution_count": 104,
     "metadata": {},
     "output_type": "execute_result"
    }
   ],
   "source": [
    "df1"
   ]
  },
  {
   "cell_type": "code",
   "execution_count": 8,
   "id": "33243c1b",
   "metadata": {},
   "outputs": [
    {
     "data": {
      "text/plain": [
       "[<matplotlib.lines.Line2D at 0x1d2780b5590>]"
      ]
     },
     "execution_count": 8,
     "metadata": {},
     "output_type": "execute_result"
    },
    {
     "data": {
      "image/png": "[encoded data removed]",
      "text/plain": [
       "<Figure size 640x480 with 1 Axes>"
      ]
     },
     "metadata": {},
     "output_type": "display_data"
    }
   ],
   "source": [
    "import matplotlib.pyplot as plt\n",
    "plt.plot(df1)\n"
   ]
  },
  {
   "cell_type": "code",
   "execution_count": 9,
   "id": "fe68b63c",
   "metadata": {},
   "outputs": [],
   "source": [
    "import numpy as np\n"
   ]
  },
  {
   "cell_type": "code",
   "execution_count": 10,
   "id": "96541af1",
   "metadata": {},
   "outputs": [],
   "source": [
    "from sklearn.preprocessing import MinMaxScaler\n",
    "scaler=MinMaxScaler(feature_range=(0,1))\n",
    "df1=scaler.fit_transform(np.array(df1).reshape(-1,1))\n"
   ]
  },
  {
   "cell_type": "code",
   "execution_count": 11,
   "id": "eaa0a772",
   "metadata": {},
   "outputs": [
    {
     "data": {
      "text/plain": [
       "array([[0.34520985],\n",
       "       [0.3444969 ],\n",
       "       [0.33213828],\n",
       "       ...,\n",
       "       [0.96402237],\n",
       "       [0.97684049],\n",
       "       [0.96619493]])"
      ]
     },
     "execution_count": 11,
     "metadata": {},
     "output_type": "execute_result"
    }
   ],
   "source": [
    "df1"
   ]
  },
  {
   "cell_type": "code",
   "execution_count": 12,
   "id": "aa91c278",
   "metadata": {},
   "outputs": [],
   "source": [
    "##splitting dataset into train and test split\n",
    "training_size=int(len(df1)*0.65)\n",
    "test_size=len(df1)-training_size\n",
    "train_data,test_data=df1[0:training_size,:],df1[training_size:len(df1),:1]"
   ]
  },
  {
   "cell_type": "code",
   "execution_count": 13,
   "id": "7b78da5f",
   "metadata": {},
   "outputs": [
    {
     "data": {
      "text/plain": [
       "(1075, 579)"
      ]
     },
     "execution_count": 13,
     "metadata": {},
     "output_type": "execute_result"
    }
   ],
   "source": [
    "training_size,test_size\n"
   ]
  },
  {
   "cell_type": "code",
   "execution_count": 14,
   "id": "d4a22390",
   "metadata": {},
   "outputs": [],
   "source": [
    "import numpy\n",
    "# convert an array of values into a dataset matrix\n",
    "def create_dataset(dataset, time_step=1):\n",
    "\tdataX, dataY = [], []\n",
    "\tfor i in range(len(dataset)-time_step-1):\n",
    "\t\ta = dataset[i:(i+time_step), 0]   ###i=0, X=0,1,2,3-----99   Y=100 \n",
    "\t\tdataX.append(a)\n",
    "\t\tdataY.append(dataset[i + time_step, 0])\n",
    "\treturn numpy.array(dataX), numpy.array(dataY)"
   ]
  },
  {
   "cell_type": "code",
   "execution_count": 15,
   "id": "5fed2e9f",
   "metadata": {},
   "outputs": [],
   "source": [
    "# reshape into X=t,t+1,t+2..t+99 and Y=t+100\n",
    "\n",
    "time_step = 100\n",
    "X_train, y_train = create_dataset(train_data, time_step)\n",
    "X_test, ytest = create_dataset(test_data, time_step)"
   ]
  },
  {
   "cell_type": "code",
   "execution_count": 16,
   "id": "1f3131fe",
   "metadata": {},
   "outputs": [
    {
     "name": "stdout",
     "output_type": "stream",
     "text": [
      "(974, 100)\n",
      "(974,)\n"
     ]
    },
    {
     "data": {
      "text/plain": [
       "(None, None)"
      ]
     },
     "execution_count": 16,
     "metadata": {},
     "output_type": "execute_result"
    }
   ],
   "source": [
    "print(X_train.shape), print(y_train.shape)\n"
   ]
  },
  {
   "cell_type": "code",
   "execution_count": 17,
   "id": "3eb0a5d6",
   "metadata": {
    "scrolled": true
   },
   "outputs": [
    {
     "name": "stdout",
     "output_type": "stream",
     "text": [
      "(478, 100)\n",
      "(478,)\n"
     ]
    },
    {
     "data": {
      "text/plain": [
       "(None, None)"
      ]
     },
     "execution_count": 17,
     "metadata": {},
     "output_type": "execute_result"
    }
   ],
   "source": [
    "print(X_test.shape), print(ytest.shape)\n"
   ]
  },
  {
   "cell_type": "code",
   "execution_count": 18,
   "id": "7536ce2f",
   "metadata": {},
   "outputs": [
    {
     "data": {
      "text/plain": [
       "array([[0.64209461, 0.63981698, 0.60501871, ..., 0.68596381, 0.67004019,\n",
       "        0.65219542],\n",
       "       [0.63981698, 0.60501871, 0.61456494, ..., 0.67004019, 0.65219542,\n",
       "        0.66724762],\n",
       "       [0.60501871, 0.61456494, 0.62525995, ..., 0.65219542, 0.66724762,\n",
       "        0.6683369 ],\n",
       "       ...,\n",
       "       [0.71678478, 0.71026709, 0.72315035, ..., 0.9799907 , 0.97792677,\n",
       "        0.97749225],\n",
       "       [0.71026709, 0.72315035, 0.72623543, ..., 0.97792677, 0.97749225,\n",
       "        0.9737989 ],\n",
       "       [0.72315035, 0.72623543, 0.72905976, ..., 0.97749225, 0.9737989 ,\n",
       "        0.96402237]])"
      ]
     },
     "execution_count": 18,
     "metadata": {},
     "output_type": "execute_result"
    }
   ],
   "source": [
    "X_test"
   ]
  },
  {
   "cell_type": "code",
   "execution_count": 19,
   "id": "adb97f0c",
   "metadata": {},
   "outputs": [],
   "source": [
    "# reshape input to be [samples, time steps, features] which is required for LSTM\n",
    "X_train =X_train.reshape(X_train.shape[0],X_train.shape[1] , 1)\n",
    "X_test = X_test.reshape(X_test.shape[0],X_test.shape[1] , 1)"
   ]
  },
  {
   "cell_type": "code",
   "execution_count": 20,
   "id": "3fb27e2a",
   "metadata": {},
   "outputs": [
    {
     "data": {
      "text/plain": [
       "array([[0.64209461],\n",
       "       [0.63981698],\n",
       "       [0.60501871],\n",
       "       [0.61456494],\n",
       "       [0.62525995],\n",
       "       [0.6284288 ],\n",
       "       [0.63314252],\n",
       "       [0.62753757],\n",
       "       [0.63833156],\n",
       "       [0.64363943],\n",
       "       [0.63843058],\n",
       "       [0.63013209],\n",
       "       [0.63989619],\n",
       "       [0.66089006],\n",
       "       [0.66657422],\n",
       "       [0.65774097],\n",
       "       [0.65918677],\n",
       "       [0.65871145],\n",
       "       [0.66570276],\n",
       "       [0.6856073 ],\n",
       "       [0.69218273],\n",
       "       [0.70230335],\n",
       "       [0.7017092 ],\n",
       "       [0.70083774],\n",
       "       [0.69246004],\n",
       "       [0.68041826],\n",
       "       [0.67673447],\n",
       "       [0.67758607],\n",
       "       [0.63183538],\n",
       "       [0.61874391],\n",
       "       [0.62541837],\n",
       "       [0.63886631],\n",
       "       [0.64449108],\n",
       "       [0.64047058],\n",
       "       [0.63696497],\n",
       "       [0.61636726],\n",
       "       [0.61923908],\n",
       "       [0.62048683],\n",
       "       [0.63104313],\n",
       "       [0.63532113],\n",
       "       [0.63001325],\n",
       "       [0.61812995],\n",
       "       [0.64585766],\n",
       "       [0.64904633],\n",
       "       [0.65789939],\n",
       "       [0.65853317],\n",
       "       [0.65092786],\n",
       "       [0.63464776],\n",
       "       [0.63874747],\n",
       "       [0.612525  ],\n",
       "       [0.59951278],\n",
       "       [0.6232794 ],\n",
       "       [0.63652929],\n",
       "       [0.6420748 ],\n",
       "       [0.62236831],\n",
       "       [0.60143389],\n",
       "       [0.57527085],\n",
       "       [0.62316056],\n",
       "       [0.64229266],\n",
       "       [0.64047058],\n",
       "       [0.64599632],\n",
       "       [0.64894731],\n",
       "       [0.63914358],\n",
       "       [0.6747341 ],\n",
       "       [0.66950544],\n",
       "       [0.68982589],\n",
       "       [0.7017092 ],\n",
       "       [0.70903721],\n",
       "       [0.72151471],\n",
       "       [0.72711966],\n",
       "       [0.73022912],\n",
       "       [0.75043073],\n",
       "       [0.74448908],\n",
       "       [0.74124097],\n",
       "       [0.74528128],\n",
       "       [0.74284523],\n",
       "       [0.72906058],\n",
       "       [0.71686039],\n",
       "       [0.72547581],\n",
       "       [0.73062522],\n",
       "       [0.71652373],\n",
       "       [0.71276067],\n",
       "       [0.69935232],\n",
       "       [0.74211243],\n",
       "       [0.76851314],\n",
       "       [0.79035865],\n",
       "       [0.79505255],\n",
       "       [0.7782971 ],\n",
       "       [0.793072  ],\n",
       "       [0.80552965],\n",
       "       [0.81460057],\n",
       "       [0.81658113],\n",
       "       [0.79677561],\n",
       "       [0.78891285],\n",
       "       [0.76692874],\n",
       "       [0.73916139],\n",
       "       [0.71446392],\n",
       "       [0.68596381],\n",
       "       [0.67004019],\n",
       "       [0.65219542]])"
      ]
     },
     "execution_count": 20,
     "metadata": {},
     "output_type": "execute_result"
    }
   ],
   "source": [
    "X_test[0]"
   ]
  },
  {
   "cell_type": "code",
   "execution_count": 21,
   "id": "8fade134",
   "metadata": {},
   "outputs": [],
   "source": [
    "### Create the Stacked LSTM model\n",
    "from tensorflow.keras.models import Sequential\n",
    "from tensorflow.keras.layers import Dense\n",
    "from tensorflow.keras.layers import LSTM"
   ]
  },
  {
   "cell_type": "code",
   "execution_count": 22,
   "id": "934350f4",
   "metadata": {},
   "outputs": [
    {
     "name": "stderr",
     "output_type": "stream",
     "text": [
      "C:\\Users\\user\\AppData\\Local\\Programs\\Python\\Python311\\Lib\\site-packages\\keras\\src\\layers\\rnn\\rnn.py:204: UserWarning: Do not pass an `input_shape`/`input_dim` argument to a layer. When using Sequential models, prefer using an `Input(shape)` object as the first layer in the model instead.\n",
      "  super().__init__(**kwargs)\n"
     ]
    }
   ],
   "source": [
    "model=Sequential()\n",
    "model.add(LSTM(50,return_sequences=True,input_shape=(100,1)))\n",
    "model.add(LSTM(50,return_sequences=True))\n",
    "model.add(LSTM(50))\n",
    "model.add(Dense(1))\n",
    "model.compile(loss='mean_squared_error',optimizer='adam')"
   ]
  },
  {
   "cell_type": "code",
   "execution_count": 23,
   "id": "f549d27e",
   "metadata": {},
   "outputs": [
    {
     "data": {
      "text/html": [
       "<pre style=\"white-space:pre;overflow-x:auto;line-height:normal;font-family:Menlo,'DejaVu Sans Mono',consolas,'Courier New',monospace\"><span style=\"font-weight: bold\">Model: \"sequential\"</span>\n",
       "</pre>\n"
      ],
      "text/plain": [
       "\u001b[1mModel: \"sequential\"\u001b[0m\n"
      ]
     },
     "metadata": {},
     "output_type": "display_data"
    },
    {
     "data": {
      "text/html": [
       "<pre style=\"white-space:pre;overflow-x:auto;line-height:normal;font-family:Menlo,'DejaVu Sans Mono',consolas,'Courier New',monospace\">┏━━━━━━━━━━━━━━━━━━━━━━━━━━━━━━━━━━━━━━┳━━━━━━━━━━━━━━━━━━━━━━━━━━━━━┳━━━━━━━━━━━━━━━━━┓\n",
       "┃<span style=\"font-weight: bold\"> Layer (type)                         </span>┃<span style=\"font-weight: bold\"> Output Shape                </span>┃<span style=\"font-weight: bold\">         Param # </span>┃\n",
       "┡━━━━━━━━━━━━━━━━━━━━━━━━━━━━━━━━━━━━━━╇━━━━━━━━━━━━━━━━━━━━━━━━━━━━━╇━━━━━━━━━━━━━━━━━┩\n",
       "│ lstm (<span style=\"color: #0087ff; text-decoration-color: #0087ff\">LSTM</span>)                          │ (<span style=\"color: #00d7ff; text-decoration-color: #00d7ff\">None</span>, <span style=\"color: #00af00; text-decoration-color: #00af00\">100</span>, <span style=\"color: #00af00; text-decoration-color: #00af00\">50</span>)             │          <span style=\"color: #00af00; text-decoration-color: #00af00\">10,400</span> │\n",
       "├──────────────────────────────────────┼─────────────────────────────┼─────────────────┤\n",
       "│ lstm_1 (<span style=\"color: #0087ff; text-decoration-color: #0087ff\">LSTM</span>)                        │ (<span style=\"color: #00d7ff; text-decoration-color: #00d7ff\">None</span>, <span style=\"color: #00af00; text-decoration-color: #00af00\">100</span>, <span style=\"color: #00af00; text-decoration-color: #00af00\">50</span>)             │          <span style=\"color: #00af00; text-decoration-color: #00af00\">20,200</span> │\n",
       "├──────────────────────────────────────┼─────────────────────────────┼─────────────────┤\n",
       "│ lstm_2 (<span style=\"color: #0087ff; text-decoration-color: #0087ff\">LSTM</span>)                        │ (<span style=\"color: #00d7ff; text-decoration-color: #00d7ff\">None</span>, <span style=\"color: #00af00; text-decoration-color: #00af00\">50</span>)                  │          <span style=\"color: #00af00; text-decoration-color: #00af00\">20,200</span> │\n",
       "├──────────────────────────────────────┼─────────────────────────────┼─────────────────┤\n",
       "│ dense (<span style=\"color: #0087ff; text-decoration-color: #0087ff\">Dense</span>)                        │ (<span style=\"color: #00d7ff; text-decoration-color: #00d7ff\">None</span>, <span style=\"color: #00af00; text-decoration-color: #00af00\">1</span>)                   │              <span style=\"color: #00af00; text-decoration-color: #00af00\">51</span> │\n",
       "└──────────────────────────────────────┴─────────────────────────────┴─────────────────┘\n",
       "</pre>\n"
      ],
      "text/plain": [
       "┏━━━━━━━━━━━━━━━━━━━━━━━━━━━━━━━━━━━━━━┳━━━━━━━━━━━━━━━━━━━━━━━━━━━━━┳━━━━━━━━━━━━━━━━━┓\n",
       "┃\u001b[1m \u001b[0m\u001b[1mLayer (type)                        \u001b[0m\u001b[1m \u001b[0m┃\u001b[1m \u001b[0m\u001b[1mOutput Shape               \u001b[0m\u001b[1m \u001b[0m┃\u001b[1m \u001b[0m\u001b[1m        Param #\u001b[0m\u001b[1m \u001b[0m┃\n",
       "┡━━━━━━━━━━━━━━━━━━━━━━━━━━━━━━━━━━━━━━╇━━━━━━━━━━━━━━━━━━━━━━━━━━━━━╇━━━━━━━━━━━━━━━━━┩\n",
       "│ lstm (\u001b[38;5;33mLSTM\u001b[0m)                          │ (\u001b[38;5;45mNone\u001b[0m, \u001b[38;5;34m100\u001b[0m, \u001b[38;5;34m50\u001b[0m)             │          \u001b[38;5;34m10,400\u001b[0m │\n",
       "├──────────────────────────────────────┼─────────────────────────────┼─────────────────┤\n",
       "│ lstm_1 (\u001b[38;5;33mLSTM\u001b[0m)                        │ (\u001b[38;5;45mNone\u001b[0m, \u001b[38;5;34m100\u001b[0m, \u001b[38;5;34m50\u001b[0m)             │          \u001b[38;5;34m20,200\u001b[0m │\n",
       "├──────────────────────────────────────┼─────────────────────────────┼─────────────────┤\n",
       "│ lstm_2 (\u001b[38;5;33mLSTM\u001b[0m)                        │ (\u001b[38;5;45mNone\u001b[0m, \u001b[38;5;34m50\u001b[0m)                  │          \u001b[38;5;34m20,200\u001b[0m │\n",
       "├──────────────────────────────────────┼─────────────────────────────┼─────────────────┤\n",
       "│ dense (\u001b[38;5;33mDense\u001b[0m)                        │ (\u001b[38;5;45mNone\u001b[0m, \u001b[38;5;34m1\u001b[0m)                   │              \u001b[38;5;34m51\u001b[0m │\n",
       "└──────────────────────────────────────┴─────────────────────────────┴─────────────────┘\n"
      ]
     },
     "metadata": {},
     "output_type": "display_data"
    },
    {
     "data": {
      "text/html": [
       "<pre style=\"white-space:pre;overflow-x:auto;line-height:normal;font-family:Menlo,'DejaVu Sans Mono',consolas,'Courier New',monospace\"><span style=\"font-weight: bold\"> Total params: </span><span style=\"color: #00af00; text-decoration-color: #00af00\">50,851</span> (198.64 KB)\n",
       "</pre>\n"
      ],
      "text/plain": [
       "\u001b[1m Total params: \u001b[0m\u001b[38;5;34m50,851\u001b[0m (198.64 KB)\n"
      ]
     },
     "metadata": {},
     "output_type": "display_data"
    },
    {
     "data": {
      "text/html": [
       "<pre style=\"white-space:pre;overflow-x:auto;line-height:normal;font-family:Menlo,'DejaVu Sans Mono',consolas,'Courier New',monospace\"><span style=\"font-weight: bold\"> Trainable params: </span><span style=\"color: #00af00; text-decoration-color: #00af00\">50,851</span> (198.64 KB)\n",
       "</pre>\n"
      ],
      "text/plain": [
       "\u001b[1m Trainable params: \u001b[0m\u001b[38;5;34m50,851\u001b[0m (198.64 KB)\n"
      ]
     },
     "metadata": {},
     "output_type": "display_data"
    },
    {
     "data": {
      "text/html": [
       "<pre style=\"white-space:pre;overflow-x:auto;line-height:normal;font-family:Menlo,'DejaVu Sans Mono',consolas,'Courier New',monospace\"><span style=\"font-weight: bold\"> Non-trainable params: </span><span style=\"color: #00af00; text-decoration-color: #00af00\">0</span> (0.00 B)\n",
       "</pre>\n"
      ],
      "text/plain": [
       "\u001b[1m Non-trainable params: \u001b[0m\u001b[38;5;34m0\u001b[0m (0.00 B)\n"
      ]
     },
     "metadata": {},
     "output_type": "display_data"
    }
   ],
   "source": [
    "model.summary()"
   ]
  },
  {
   "cell_type": "code",
   "execution_count": 24,
   "id": "001af413",
   "metadata": {},
   "outputs": [
    {
     "name": "stdout",
     "output_type": "stream",
     "text": [
      "Epoch 1/100\n",
      "\u001b[1m16/16\u001b[0m \u001b[32m━━━━━━━━━━━━━━━━━━━━\u001b[0m\u001b[37m\u001b[0m \u001b[1m18s\u001b[0m 414ms/step - loss: 0.0596 - val_loss: 0.0484\n",
      "Epoch 2/100\n",
      "\u001b[1m16/16\u001b[0m \u001b[32m━━━━━━━━━━━━━━━━━━━━\u001b[0m\u001b[37m\u001b[0m \u001b[1m5s\u001b[0m 306ms/step - loss: 0.0046 - val_loss: 0.0071\n",
      "Epoch 3/100\n",
      "\u001b[1m16/16\u001b[0m \u001b[32m━━━━━━━━━━━━━━━━━━━━\u001b[0m\u001b[37m\u001b[0m \u001b[1m5s\u001b[0m 328ms/step - loss: 0.0016 - val_loss: 0.0016\n",
      "Epoch 4/100\n",
      "\u001b[1m16/16\u001b[0m \u001b[32m━━━━━━━━━━━━━━━━━━━━\u001b[0m\u001b[37m\u001b[0m \u001b[1m5s\u001b[0m 303ms/step - loss: 0.0013 - val_loss: 0.0021\n",
      "Epoch 5/100\n",
      "\u001b[1m16/16\u001b[0m \u001b[32m━━━━━━━━━━━━━━━━━━━━\u001b[0m\u001b[37m\u001b[0m \u001b[1m5s\u001b[0m 299ms/step - loss: 0.0012 - val_loss: 0.0022\n",
      "Epoch 6/100\n",
      "\u001b[1m16/16\u001b[0m \u001b[32m━━━━━━━━━━━━━━━━━━━━\u001b[0m\u001b[37m\u001b[0m \u001b[1m5s\u001b[0m 299ms/step - loss: 0.0012 - val_loss: 0.0018\n",
      "Epoch 7/100\n",
      "\u001b[1m16/16\u001b[0m \u001b[32m━━━━━━━━━━━━━━━━━━━━\u001b[0m\u001b[37m\u001b[0m \u001b[1m5s\u001b[0m 296ms/step - loss: 0.0011 - val_loss: 0.0013\n",
      "Epoch 8/100\n",
      "\u001b[1m16/16\u001b[0m \u001b[32m━━━━━━━━━━━━━━━━━━━━\u001b[0m\u001b[37m\u001b[0m \u001b[1m5s\u001b[0m 302ms/step - loss: 0.0012 - val_loss: 0.0023\n",
      "Epoch 9/100\n",
      "\u001b[1m16/16\u001b[0m \u001b[32m━━━━━━━━━━━━━━━━━━━━\u001b[0m\u001b[37m\u001b[0m \u001b[1m5s\u001b[0m 303ms/step - loss: 0.0011 - val_loss: 0.0021\n",
      "Epoch 10/100\n",
      "\u001b[1m16/16\u001b[0m \u001b[32m━━━━━━━━━━━━━━━━━━━━\u001b[0m\u001b[37m\u001b[0m \u001b[1m5s\u001b[0m 300ms/step - loss: 9.6882e-04 - val_loss: 0.0011\n",
      "Epoch 11/100\n",
      "\u001b[1m16/16\u001b[0m \u001b[32m━━━━━━━━━━━━━━━━━━━━\u001b[0m\u001b[37m\u001b[0m \u001b[1m5s\u001b[0m 305ms/step - loss: 8.8835e-04 - val_loss: 9.8179e-04\n",
      "Epoch 12/100\n",
      "\u001b[1m16/16\u001b[0m \u001b[32m━━━━━━━━━━━━━━━━━━━━\u001b[0m\u001b[37m\u001b[0m \u001b[1m5s\u001b[0m 309ms/step - loss: 8.9089e-04 - val_loss: 0.0010\n",
      "Epoch 13/100\n",
      "\u001b[1m16/16\u001b[0m \u001b[32m━━━━━━━━━━━━━━━━━━━━\u001b[0m\u001b[37m\u001b[0m \u001b[1m5s\u001b[0m 322ms/step - loss: 0.0010 - val_loss: 9.5787e-04\n",
      "Epoch 14/100\n",
      "\u001b[1m16/16\u001b[0m \u001b[32m━━━━━━━━━━━━━━━━━━━━\u001b[0m\u001b[37m\u001b[0m \u001b[1m5s\u001b[0m 324ms/step - loss: 0.0011 - val_loss: 0.0017\n",
      "Epoch 15/100\n",
      "\u001b[1m16/16\u001b[0m \u001b[32m━━━━━━━━━━━━━━━━━━━━\u001b[0m\u001b[37m\u001b[0m \u001b[1m5s\u001b[0m 301ms/step - loss: 9.7413e-04 - val_loss: 0.0033\n",
      "Epoch 16/100\n",
      "\u001b[1m16/16\u001b[0m \u001b[32m━━━━━━━━━━━━━━━━━━━━\u001b[0m\u001b[37m\u001b[0m \u001b[1m5s\u001b[0m 328ms/step - loss: 7.6368e-04 - val_loss: 0.0013\n",
      "Epoch 17/100\n",
      "\u001b[1m16/16\u001b[0m \u001b[32m━━━━━━━━━━━━━━━━━━━━\u001b[0m\u001b[37m\u001b[0m \u001b[1m5s\u001b[0m 312ms/step - loss: 7.8416e-04 - val_loss: 0.0010\n",
      "Epoch 18/100\n",
      "\u001b[1m16/16\u001b[0m \u001b[32m━━━━━━━━━━━━━━━━━━━━\u001b[0m\u001b[37m\u001b[0m \u001b[1m5s\u001b[0m 321ms/step - loss: 7.3480e-04 - val_loss: 0.0040\n",
      "Epoch 19/100\n",
      "\u001b[1m16/16\u001b[0m \u001b[32m━━━━━━━━━━━━━━━━━━━━\u001b[0m\u001b[37m\u001b[0m \u001b[1m5s\u001b[0m 330ms/step - loss: 8.3133e-04 - val_loss: 0.0017\n",
      "Epoch 20/100\n",
      "\u001b[1m16/16\u001b[0m \u001b[32m━━━━━━━━━━━━━━━━━━━━\u001b[0m\u001b[37m\u001b[0m \u001b[1m5s\u001b[0m 313ms/step - loss: 7.0837e-04 - val_loss: 0.0019\n",
      "Epoch 21/100\n",
      "\u001b[1m16/16\u001b[0m \u001b[32m━━━━━━━━━━━━━━━━━━━━\u001b[0m\u001b[37m\u001b[0m \u001b[1m5s\u001b[0m 301ms/step - loss: 7.3026e-04 - val_loss: 7.8375e-04\n",
      "Epoch 22/100\n",
      "\u001b[1m16/16\u001b[0m \u001b[32m━━━━━━━━━━━━━━━━━━━━\u001b[0m\u001b[37m\u001b[0m \u001b[1m5s\u001b[0m 311ms/step - loss: 6.7444e-04 - val_loss: 0.0014\n",
      "Epoch 23/100\n",
      "\u001b[1m16/16\u001b[0m \u001b[32m━━━━━━━━━━━━━━━━━━━━\u001b[0m\u001b[37m\u001b[0m \u001b[1m5s\u001b[0m 311ms/step - loss: 6.8338e-04 - val_loss: 7.6328e-04\n",
      "Epoch 24/100\n",
      "\u001b[1m16/16\u001b[0m \u001b[32m━━━━━━━━━━━━━━━━━━━━\u001b[0m\u001b[37m\u001b[0m \u001b[1m5s\u001b[0m 318ms/step - loss: 7.2361e-04 - val_loss: 8.1201e-04\n",
      "Epoch 25/100\n",
      "\u001b[1m16/16\u001b[0m \u001b[32m━━━━━━━━━━━━━━━━━━━━\u001b[0m\u001b[37m\u001b[0m \u001b[1m5s\u001b[0m 315ms/step - loss: 6.6448e-04 - val_loss: 8.0389e-04\n",
      "Epoch 26/100\n",
      "\u001b[1m16/16\u001b[0m \u001b[32m━━━━━━━━━━━━━━━━━━━━\u001b[0m\u001b[37m\u001b[0m \u001b[1m5s\u001b[0m 305ms/step - loss: 5.9382e-04 - val_loss: 0.0019\n",
      "Epoch 27/100\n",
      "\u001b[1m16/16\u001b[0m \u001b[32m━━━━━━━━━━━━━━━━━━━━\u001b[0m\u001b[37m\u001b[0m \u001b[1m5s\u001b[0m 325ms/step - loss: 6.2494e-04 - val_loss: 0.0013\n",
      "Epoch 28/100\n",
      "\u001b[1m16/16\u001b[0m \u001b[32m━━━━━━━━━━━━━━━━━━━━\u001b[0m\u001b[37m\u001b[0m \u001b[1m5s\u001b[0m 325ms/step - loss: 6.4549e-04 - val_loss: 0.0029\n",
      "Epoch 29/100\n",
      "\u001b[1m16/16\u001b[0m \u001b[32m━━━━━━━━━━━━━━━━━━━━\u001b[0m\u001b[37m\u001b[0m \u001b[1m5s\u001b[0m 344ms/step - loss: 6.5979e-04 - val_loss: 0.0016\n",
      "Epoch 30/100\n",
      "\u001b[1m16/16\u001b[0m \u001b[32m━━━━━━━━━━━━━━━━━━━━\u001b[0m\u001b[37m\u001b[0m \u001b[1m5s\u001b[0m 326ms/step - loss: 5.7389e-04 - val_loss: 6.9021e-04\n",
      "Epoch 31/100\n",
      "\u001b[1m16/16\u001b[0m \u001b[32m━━━━━━━━━━━━━━━━━━━━\u001b[0m\u001b[37m\u001b[0m \u001b[1m5s\u001b[0m 318ms/step - loss: 6.3576e-04 - val_loss: 9.2899e-04\n",
      "Epoch 32/100\n",
      "\u001b[1m16/16\u001b[0m \u001b[32m━━━━━━━━━━━━━━━━━━━━\u001b[0m\u001b[37m\u001b[0m \u001b[1m5s\u001b[0m 330ms/step - loss: 5.5883e-04 - val_loss: 6.6061e-04\n",
      "Epoch 33/100\n",
      "\u001b[1m16/16\u001b[0m \u001b[32m━━━━━━━━━━━━━━━━━━━━\u001b[0m\u001b[37m\u001b[0m \u001b[1m5s\u001b[0m 314ms/step - loss: 5.3060e-04 - val_loss: 0.0016\n",
      "Epoch 34/100\n",
      "\u001b[1m16/16\u001b[0m \u001b[32m━━━━━━━━━━━━━━━━━━━━\u001b[0m\u001b[37m\u001b[0m \u001b[1m5s\u001b[0m 314ms/step - loss: 5.6077e-04 - val_loss: 6.3688e-04\n",
      "Epoch 35/100\n",
      "\u001b[1m16/16\u001b[0m \u001b[32m━━━━━━━━━━━━━━━━━━━━\u001b[0m\u001b[37m\u001b[0m \u001b[1m5s\u001b[0m 308ms/step - loss: 5.2838e-04 - val_loss: 7.6907e-04\n",
      "Epoch 36/100\n",
      "\u001b[1m16/16\u001b[0m \u001b[32m━━━━━━━━━━━━━━━━━━━━\u001b[0m\u001b[37m\u001b[0m \u001b[1m5s\u001b[0m 301ms/step - loss: 5.1124e-04 - val_loss: 0.0015\n",
      "Epoch 37/100\n",
      "\u001b[1m16/16\u001b[0m \u001b[32m━━━━━━━━━━━━━━━━━━━━\u001b[0m\u001b[37m\u001b[0m \u001b[1m5s\u001b[0m 298ms/step - loss: 6.2264e-04 - val_loss: 5.8414e-04\n",
      "Epoch 38/100\n",
      "\u001b[1m16/16\u001b[0m \u001b[32m━━━━━━━━━━━━━━━━━━━━\u001b[0m\u001b[37m\u001b[0m \u001b[1m5s\u001b[0m 300ms/step - loss: 6.4785e-04 - val_loss: 6.2271e-04\n",
      "Epoch 39/100\n",
      "\u001b[1m16/16\u001b[0m \u001b[32m━━━━━━━━━━━━━━━━━━━━\u001b[0m\u001b[37m\u001b[0m \u001b[1m5s\u001b[0m 300ms/step - loss: 5.6206e-04 - val_loss: 5.6502e-04\n",
      "Epoch 40/100\n",
      "\u001b[1m16/16\u001b[0m \u001b[32m━━━━━━━━━━━━━━━━━━━━\u001b[0m\u001b[37m\u001b[0m \u001b[1m5s\u001b[0m 299ms/step - loss: 5.2643e-04 - val_loss: 5.4428e-04\n",
      "Epoch 41/100\n",
      "\u001b[1m16/16\u001b[0m \u001b[32m━━━━━━━━━━━━━━━━━━━━\u001b[0m\u001b[37m\u001b[0m \u001b[1m5s\u001b[0m 304ms/step - loss: 5.1070e-04 - val_loss: 0.0013\n",
      "Epoch 42/100\n",
      "\u001b[1m16/16\u001b[0m \u001b[32m━━━━━━━━━━━━━━━━━━━━\u001b[0m\u001b[37m\u001b[0m \u001b[1m5s\u001b[0m 330ms/step - loss: 5.1286e-04 - val_loss: 5.3884e-04\n",
      "Epoch 43/100\n",
      "\u001b[1m16/16\u001b[0m \u001b[32m━━━━━━━━━━━━━━━━━━━━\u001b[0m\u001b[37m\u001b[0m \u001b[1m5s\u001b[0m 326ms/step - loss: 5.5689e-04 - val_loss: 0.0015\n",
      "Epoch 44/100\n",
      "\u001b[1m16/16\u001b[0m \u001b[32m━━━━━━━━━━━━━━━━━━━━\u001b[0m\u001b[37m\u001b[0m \u001b[1m5s\u001b[0m 316ms/step - loss: 5.2243e-04 - val_loss: 5.8670e-04\n",
      "Epoch 45/100\n",
      "\u001b[1m16/16\u001b[0m \u001b[32m━━━━━━━━━━━━━━━━━━━━\u001b[0m\u001b[37m\u001b[0m \u001b[1m5s\u001b[0m 314ms/step - loss: 4.8251e-04 - val_loss: 9.6593e-04\n",
      "Epoch 46/100\n",
      "\u001b[1m16/16\u001b[0m \u001b[32m━━━━━━━━━━━━━━━━━━━━\u001b[0m\u001b[37m\u001b[0m \u001b[1m5s\u001b[0m 298ms/step - loss: 5.0727e-04 - val_loss: 4.8966e-04\n",
      "Epoch 47/100\n",
      "\u001b[1m16/16\u001b[0m \u001b[32m━━━━━━━━━━━━━━━━━━━━\u001b[0m\u001b[37m\u001b[0m \u001b[1m5s\u001b[0m 301ms/step - loss: 4.4317e-04 - val_loss: 6.6693e-04\n",
      "Epoch 48/100\n",
      "\u001b[1m16/16\u001b[0m \u001b[32m━━━━━━━━━━━━━━━━━━━━\u001b[0m\u001b[37m\u001b[0m \u001b[1m5s\u001b[0m 303ms/step - loss: 5.5714e-04 - val_loss: 4.9107e-04\n",
      "Epoch 49/100\n",
      "\u001b[1m16/16\u001b[0m \u001b[32m━━━━━━━━━━━━━━━━━━━━\u001b[0m\u001b[37m\u001b[0m \u001b[1m5s\u001b[0m 301ms/step - loss: 4.9421e-04 - val_loss: 6.7009e-04\n",
      "Epoch 50/100\n",
      "\u001b[1m16/16\u001b[0m \u001b[32m━━━━━━━━━━━━━━━━━━━━\u001b[0m\u001b[37m\u001b[0m \u001b[1m5s\u001b[0m 316ms/step - loss: 4.1270e-04 - val_loss: 5.0521e-04\n",
      "Epoch 51/100\n",
      "\u001b[1m16/16\u001b[0m \u001b[32m━━━━━━━━━━━━━━━━━━━━\u001b[0m\u001b[37m\u001b[0m \u001b[1m5s\u001b[0m 302ms/step - loss: 3.8666e-04 - val_loss: 0.0018\n",
      "Epoch 52/100\n",
      "\u001b[1m16/16\u001b[0m \u001b[32m━━━━━━━━━━━━━━━━━━━━\u001b[0m\u001b[37m\u001b[0m \u001b[1m5s\u001b[0m 301ms/step - loss: 6.2822e-04 - val_loss: 4.7995e-04\n",
      "Epoch 53/100\n",
      "\u001b[1m16/16\u001b[0m \u001b[32m━━━━━━━━━━━━━━━━━━━━\u001b[0m\u001b[37m\u001b[0m \u001b[1m5s\u001b[0m 299ms/step - loss: 4.3048e-04 - val_loss: 5.2838e-04\n",
      "Epoch 54/100\n",
      "\u001b[1m16/16\u001b[0m \u001b[32m━━━━━━━━━━━━━━━━━━━━\u001b[0m\u001b[37m\u001b[0m \u001b[1m5s\u001b[0m 303ms/step - loss: 4.0564e-04 - val_loss: 4.1936e-04\n",
      "Epoch 55/100\n",
      "\u001b[1m16/16\u001b[0m \u001b[32m━━━━━━━━━━━━━━━━━━━━\u001b[0m\u001b[37m\u001b[0m \u001b[1m5s\u001b[0m 308ms/step - loss: 4.1289e-04 - val_loss: 0.0012\n",
      "Epoch 56/100\n",
      "\u001b[1m16/16\u001b[0m \u001b[32m━━━━━━━━━━━━━━━━━━━━\u001b[0m\u001b[37m\u001b[0m \u001b[1m5s\u001b[0m 312ms/step - loss: 4.2858e-04 - val_loss: 4.9221e-04\n",
      "Epoch 57/100\n",
      "\u001b[1m16/16\u001b[0m \u001b[32m━━━━━━━━━━━━━━━━━━━━\u001b[0m\u001b[37m\u001b[0m \u001b[1m5s\u001b[0m 315ms/step - loss: 4.1969e-04 - val_loss: 0.0015\n",
      "Epoch 58/100\n",
      "\u001b[1m16/16\u001b[0m \u001b[32m━━━━━━━━━━━━━━━━━━━━\u001b[0m\u001b[37m\u001b[0m \u001b[1m5s\u001b[0m 320ms/step - loss: 4.6735e-04 - val_loss: 5.7584e-04\n",
      "Epoch 59/100\n",
      "\u001b[1m16/16\u001b[0m \u001b[32m━━━━━━━━━━━━━━━━━━━━\u001b[0m\u001b[37m\u001b[0m \u001b[1m5s\u001b[0m 300ms/step - loss: 4.1510e-04 - val_loss: 4.2615e-04\n",
      "Epoch 60/100\n",
      "\u001b[1m16/16\u001b[0m \u001b[32m━━━━━━━━━━━━━━━━━━━━\u001b[0m\u001b[37m\u001b[0m \u001b[1m5s\u001b[0m 299ms/step - loss: 3.7020e-04 - val_loss: 3.5738e-04\n",
      "Epoch 61/100\n",
      "\u001b[1m16/16\u001b[0m \u001b[32m━━━━━━━━━━━━━━━━━━━━\u001b[0m\u001b[37m\u001b[0m \u001b[1m5s\u001b[0m 302ms/step - loss: 3.8188e-04 - val_loss: 5.8316e-04\n",
      "Epoch 62/100\n",
      "\u001b[1m16/16\u001b[0m \u001b[32m━━━━━━━━━━━━━━━━━━━━\u001b[0m\u001b[37m\u001b[0m \u001b[1m5s\u001b[0m 305ms/step - loss: 3.5866e-04 - val_loss: 7.1502e-04\n",
      "Epoch 63/100\n",
      "\u001b[1m16/16\u001b[0m \u001b[32m━━━━━━━━━━━━━━━━━━━━\u001b[0m\u001b[37m\u001b[0m \u001b[1m5s\u001b[0m 297ms/step - loss: 5.1980e-04 - val_loss: 0.0017\n",
      "Epoch 64/100\n",
      "\u001b[1m16/16\u001b[0m \u001b[32m━━━━━━━━━━━━━━━━━━━━\u001b[0m\u001b[37m\u001b[0m \u001b[1m5s\u001b[0m 293ms/step - loss: 4.3533e-04 - val_loss: 3.5816e-04\n",
      "Epoch 65/100\n"
     ]
    },
    {
     "name": "stdout",
     "output_type": "stream",
     "text": [
      "\u001b[1m16/16\u001b[0m \u001b[32m━━━━━━━━━━━━━━━━━━━━\u001b[0m\u001b[37m\u001b[0m \u001b[1m5s\u001b[0m 311ms/step - loss: 4.1215e-04 - val_loss: 4.1410e-04\n",
      "Epoch 66/100\n",
      "\u001b[1m16/16\u001b[0m \u001b[32m━━━━━━━━━━━━━━━━━━━━\u001b[0m\u001b[37m\u001b[0m \u001b[1m5s\u001b[0m 311ms/step - loss: 3.5275e-04 - val_loss: 4.7466e-04\n",
      "Epoch 67/100\n",
      "\u001b[1m16/16\u001b[0m \u001b[32m━━━━━━━━━━━━━━━━━━━━\u001b[0m\u001b[37m\u001b[0m \u001b[1m5s\u001b[0m 294ms/step - loss: 3.7754e-04 - val_loss: 4.2000e-04\n",
      "Epoch 68/100\n",
      "\u001b[1m16/16\u001b[0m \u001b[32m━━━━━━━━━━━━━━━━━━━━\u001b[0m\u001b[37m\u001b[0m \u001b[1m5s\u001b[0m 309ms/step - loss: 3.5076e-04 - val_loss: 8.2055e-04\n",
      "Epoch 69/100\n",
      "\u001b[1m16/16\u001b[0m \u001b[32m━━━━━━━━━━━━━━━━━━━━\u001b[0m\u001b[37m\u001b[0m \u001b[1m5s\u001b[0m 310ms/step - loss: 3.6858e-04 - val_loss: 6.8682e-04\n",
      "Epoch 70/100\n",
      "\u001b[1m16/16\u001b[0m \u001b[32m━━━━━━━━━━━━━━━━━━━━\u001b[0m\u001b[37m\u001b[0m \u001b[1m5s\u001b[0m 299ms/step - loss: 4.0185e-04 - val_loss: 3.9471e-04\n",
      "Epoch 71/100\n",
      "\u001b[1m16/16\u001b[0m \u001b[32m━━━━━━━━━━━━━━━━━━━━\u001b[0m\u001b[37m\u001b[0m \u001b[1m5s\u001b[0m 296ms/step - loss: 3.0549e-04 - val_loss: 2.9943e-04\n",
      "Epoch 72/100\n",
      "\u001b[1m16/16\u001b[0m \u001b[32m━━━━━━━━━━━━━━━━━━━━\u001b[0m\u001b[37m\u001b[0m \u001b[1m5s\u001b[0m 304ms/step - loss: 3.2322e-04 - val_loss: 3.6935e-04\n",
      "Epoch 73/100\n",
      "\u001b[1m16/16\u001b[0m \u001b[32m━━━━━━━━━━━━━━━━━━━━\u001b[0m\u001b[37m\u001b[0m \u001b[1m5s\u001b[0m 309ms/step - loss: 3.8533e-04 - val_loss: 5.6433e-04\n",
      "Epoch 74/100\n",
      "\u001b[1m16/16\u001b[0m \u001b[32m━━━━━━━━━━━━━━━━━━━━\u001b[0m\u001b[37m\u001b[0m \u001b[1m5s\u001b[0m 306ms/step - loss: 2.9258e-04 - val_loss: 4.4021e-04\n",
      "Epoch 75/100\n",
      "\u001b[1m16/16\u001b[0m \u001b[32m━━━━━━━━━━━━━━━━━━━━\u001b[0m\u001b[37m\u001b[0m \u001b[1m5s\u001b[0m 294ms/step - loss: 3.2999e-04 - val_loss: 6.0594e-04\n",
      "Epoch 76/100\n",
      "\u001b[1m16/16\u001b[0m \u001b[32m━━━━━━━━━━━━━━━━━━━━\u001b[0m\u001b[37m\u001b[0m \u001b[1m5s\u001b[0m 298ms/step - loss: 3.1939e-04 - val_loss: 6.2826e-04\n",
      "Epoch 77/100\n",
      "\u001b[1m16/16\u001b[0m \u001b[32m━━━━━━━━━━━━━━━━━━━━\u001b[0m\u001b[37m\u001b[0m \u001b[1m5s\u001b[0m 295ms/step - loss: 3.8956e-04 - val_loss: 3.3247e-04\n",
      "Epoch 78/100\n",
      "\u001b[1m16/16\u001b[0m \u001b[32m━━━━━━━━━━━━━━━━━━━━\u001b[0m\u001b[37m\u001b[0m \u001b[1m5s\u001b[0m 291ms/step - loss: 2.7719e-04 - val_loss: 3.0886e-04\n",
      "Epoch 79/100\n",
      "\u001b[1m16/16\u001b[0m \u001b[32m━━━━━━━━━━━━━━━━━━━━\u001b[0m\u001b[37m\u001b[0m \u001b[1m5s\u001b[0m 288ms/step - loss: 3.3024e-04 - val_loss: 2.5037e-04\n",
      "Epoch 80/100\n",
      "\u001b[1m16/16\u001b[0m \u001b[32m━━━━━━━━━━━━━━━━━━━━\u001b[0m\u001b[37m\u001b[0m \u001b[1m5s\u001b[0m 297ms/step - loss: 2.5661e-04 - val_loss: 6.2111e-04\n",
      "Epoch 81/100\n",
      "\u001b[1m16/16\u001b[0m \u001b[32m━━━━━━━━━━━━━━━━━━━━\u001b[0m\u001b[37m\u001b[0m \u001b[1m5s\u001b[0m 309ms/step - loss: 3.8044e-04 - val_loss: 5.4090e-04\n",
      "Epoch 82/100\n",
      "\u001b[1m16/16\u001b[0m \u001b[32m━━━━━━━━━━━━━━━━━━━━\u001b[0m\u001b[37m\u001b[0m \u001b[1m5s\u001b[0m 310ms/step - loss: 3.3207e-04 - val_loss: 3.7523e-04\n",
      "Epoch 83/100\n",
      "\u001b[1m16/16\u001b[0m \u001b[32m━━━━━━━━━━━━━━━━━━━━\u001b[0m\u001b[37m\u001b[0m \u001b[1m5s\u001b[0m 297ms/step - loss: 2.8628e-04 - val_loss: 2.9015e-04\n",
      "Epoch 84/100\n",
      "\u001b[1m16/16\u001b[0m \u001b[32m━━━━━━━━━━━━━━━━━━━━\u001b[0m\u001b[37m\u001b[0m \u001b[1m5s\u001b[0m 296ms/step - loss: 2.8919e-04 - val_loss: 3.0866e-04\n",
      "Epoch 85/100\n",
      "\u001b[1m16/16\u001b[0m \u001b[32m━━━━━━━━━━━━━━━━━━━━\u001b[0m\u001b[37m\u001b[0m \u001b[1m5s\u001b[0m 295ms/step - loss: 2.1532e-04 - val_loss: 2.8616e-04\n",
      "Epoch 86/100\n",
      "\u001b[1m16/16\u001b[0m \u001b[32m━━━━━━━━━━━━━━━━━━━━\u001b[0m\u001b[37m\u001b[0m \u001b[1m5s\u001b[0m 295ms/step - loss: 2.7051e-04 - val_loss: 2.4093e-04\n",
      "Epoch 87/100\n",
      "\u001b[1m16/16\u001b[0m \u001b[32m━━━━━━━━━━━━━━━━━━━━\u001b[0m\u001b[37m\u001b[0m \u001b[1m5s\u001b[0m 296ms/step - loss: 2.4109e-04 - val_loss: 5.5084e-04\n",
      "Epoch 88/100\n",
      "\u001b[1m16/16\u001b[0m \u001b[32m━━━━━━━━━━━━━━━━━━━━\u001b[0m\u001b[37m\u001b[0m \u001b[1m5s\u001b[0m 295ms/step - loss: 2.2621e-04 - val_loss: 2.2309e-04\n",
      "Epoch 89/100\n",
      "\u001b[1m16/16\u001b[0m \u001b[32m━━━━━━━━━━━━━━━━━━━━\u001b[0m\u001b[37m\u001b[0m \u001b[1m5s\u001b[0m 307ms/step - loss: 2.1834e-04 - val_loss: 2.7551e-04\n",
      "Epoch 90/100\n",
      "\u001b[1m16/16\u001b[0m \u001b[32m━━━━━━━━━━━━━━━━━━━━\u001b[0m\u001b[37m\u001b[0m \u001b[1m5s\u001b[0m 308ms/step - loss: 2.4222e-04 - val_loss: 2.2263e-04\n",
      "Epoch 91/100\n",
      "\u001b[1m16/16\u001b[0m \u001b[32m━━━━━━━━━━━━━━━━━━━━\u001b[0m\u001b[37m\u001b[0m \u001b[1m5s\u001b[0m 296ms/step - loss: 2.6643e-04 - val_loss: 0.0011\n",
      "Epoch 92/100\n",
      "\u001b[1m16/16\u001b[0m \u001b[32m━━━━━━━━━━━━━━━━━━━━\u001b[0m\u001b[37m\u001b[0m \u001b[1m5s\u001b[0m 303ms/step - loss: 2.5811e-04 - val_loss: 0.0012\n",
      "Epoch 93/100\n",
      "\u001b[1m16/16\u001b[0m \u001b[32m━━━━━━━━━━━━━━━━━━━━\u001b[0m\u001b[37m\u001b[0m \u001b[1m5s\u001b[0m 295ms/step - loss: 3.2756e-04 - val_loss: 3.0134e-04\n",
      "Epoch 94/100\n",
      "\u001b[1m16/16\u001b[0m \u001b[32m━━━━━━━━━━━━━━━━━━━━\u001b[0m\u001b[37m\u001b[0m \u001b[1m5s\u001b[0m 287ms/step - loss: 2.3514e-04 - val_loss: 6.2320e-04\n",
      "Epoch 95/100\n",
      "\u001b[1m16/16\u001b[0m \u001b[32m━━━━━━━━━━━━━━━━━━━━\u001b[0m\u001b[37m\u001b[0m \u001b[1m5s\u001b[0m 305ms/step - loss: 2.5608e-04 - val_loss: 2.0325e-04\n",
      "Epoch 96/100\n",
      "\u001b[1m16/16\u001b[0m \u001b[32m━━━━━━━━━━━━━━━━━━━━\u001b[0m\u001b[37m\u001b[0m \u001b[1m5s\u001b[0m 306ms/step - loss: 2.1868e-04 - val_loss: 2.1427e-04\n",
      "Epoch 97/100\n",
      "\u001b[1m16/16\u001b[0m \u001b[32m━━━━━━━━━━━━━━━━━━━━\u001b[0m\u001b[37m\u001b[0m \u001b[1m5s\u001b[0m 303ms/step - loss: 2.1238e-04 - val_loss: 2.6551e-04\n",
      "Epoch 98/100\n",
      "\u001b[1m16/16\u001b[0m \u001b[32m━━━━━━━━━━━━━━━━━━━━\u001b[0m\u001b[37m\u001b[0m \u001b[1m5s\u001b[0m 308ms/step - loss: 2.3001e-04 - val_loss: 2.0053e-04\n",
      "Epoch 99/100\n",
      "\u001b[1m16/16\u001b[0m \u001b[32m━━━━━━━━━━━━━━━━━━━━\u001b[0m\u001b[37m\u001b[0m \u001b[1m5s\u001b[0m 297ms/step - loss: 1.9977e-04 - val_loss: 2.1880e-04\n",
      "Epoch 100/100\n",
      "\u001b[1m16/16\u001b[0m \u001b[32m━━━━━━━━━━━━━━━━━━━━\u001b[0m\u001b[37m\u001b[0m \u001b[1m5s\u001b[0m 288ms/step - loss: 2.6661e-04 - val_loss: 2.0792e-04\n"
     ]
    },
    {
     "data": {
      "text/plain": [
       "<keras.src.callbacks.history.History at 0x1d212d95110>"
      ]
     },
     "execution_count": 24,
     "metadata": {},
     "output_type": "execute_result"
    }
   ],
   "source": [
    "model.fit(X_train,y_train,validation_data=(X_test,ytest),epochs=100,batch_size=64,verbose=1)"
   ]
  },
  {
   "cell_type": "code",
   "execution_count": 25,
   "id": "dc1f45be",
   "metadata": {},
   "outputs": [
    {
     "name": "stderr",
     "output_type": "stream",
     "text": [
      "WARNING:absl:You are saving your model as an HDF5 file via `model.save()` or `keras.saving.save_model(model)`. This file format is considered legacy. We recommend using instead the native Keras format, e.g. `model.save('my_model.keras')` or `keras.saving.save_model(model, 'my_model.keras')`. \n"
     ]
    }
   ],
   "source": [
    "model.save(\"stock_prediction_model.h5\")\n",
    "np.save(\"scaler_parameters.npy\", scaler)"
   ]
  },
  {
   "cell_type": "code",
   "execution_count": 26,
   "id": "a3d64ddd",
   "metadata": {},
   "outputs": [],
   "source": [
    "import tensorflow as tf\n"
   ]
  },
  {
   "cell_type": "code",
   "execution_count": 27,
   "id": "127b8e4e",
   "metadata": {},
   "outputs": [
    {
     "name": "stdout",
     "output_type": "stream",
     "text": [
      "\u001b[1m31/31\u001b[0m \u001b[32m━━━━━━━━━━━━━━━━━━━━\u001b[0m\u001b[37m\u001b[0m \u001b[1m4s\u001b[0m 104ms/step\n",
      "\u001b[1m15/15\u001b[0m \u001b[32m━━━━━━━━━━━━━━━━━━━━\u001b[0m\u001b[37m\u001b[0m \u001b[1m1s\u001b[0m 70ms/step\n"
     ]
    }
   ],
   "source": [
    "### Lets Do the prediction and check performance metrics\n",
    "train_predict=model.predict(X_train)\n",
    "test_predict=model.predict(X_test)"
   ]
  },
  {
   "cell_type": "code",
   "execution_count": 28,
   "id": "10f6ee91",
   "metadata": {},
   "outputs": [],
   "source": [
    "##Transformback to original form\n",
    "train_predict=scaler.inverse_transform(train_predict)\n",
    "test_predict=scaler.inverse_transform(test_predict)"
   ]
  },
  {
   "cell_type": "code",
   "execution_count": 29,
   "id": "3168ec1c",
   "metadata": {},
   "outputs": [
    {
     "data": {
      "text/plain": [
       "1532.673781049164"
      ]
     },
     "execution_count": 29,
     "metadata": {},
     "output_type": "execute_result"
    }
   ],
   "source": [
    "### Calculate RMSE performance metrics\n",
    "import math\n",
    "from sklearn.metrics import mean_squared_error\n",
    "math.sqrt(mean_squared_error(y_train,train_predict))"
   ]
  },
  {
   "cell_type": "code",
   "execution_count": 30,
   "id": "81646891",
   "metadata": {},
   "outputs": [
    {
     "data": {
      "text/plain": [
       "2439.2807578990314"
      ]
     },
     "execution_count": 30,
     "metadata": {},
     "output_type": "execute_result"
    }
   ],
   "source": [
    "### Test Data RMSE\n",
    "math.sqrt(mean_squared_error(ytest,test_predict))"
   ]
  },
  {
   "cell_type": "code",
   "execution_count": 31,
   "id": "6f741e4f",
   "metadata": {},
   "outputs": [
    {
     "data": {
      "image/png": "[encoded data removed]",
      "text/plain": [
       "<Figure size 640x480 with 1 Axes>"
      ]
     },
     "metadata": {},
     "output_type": "display_data"
    }
   ],
   "source": [
    "### Plotting \n",
    "# shift train predictions for plotting\n",
    "look_back=100\n",
    "trainPredictPlot = numpy.empty_like(df1)\n",
    "trainPredictPlot[:, :] = np.nan\n",
    "trainPredictPlot[look_back:len(train_predict)+look_back, :] = train_predict\n",
    "# shift test predictions for plotting\n",
    "testPredictPlot = numpy.empty_like(df1)\n",
    "testPredictPlot[:, :] = numpy.nan\n",
    "testPredictPlot[len(train_predict)+(look_back*2)+1:len(df1)-1, :] = test_predict\n",
    "# plot baseline and predictions\n",
    "plt.plot(scaler.inverse_transform(df1))\n",
    "plt.plot(trainPredictPlot)\n",
    "plt.plot(testPredictPlot)\n",
    "plt.show()\n"
   ]
  },
  {
   "cell_type": "code",
   "execution_count": 38,
   "id": "5bf66dd3",
   "metadata": {},
   "outputs": [],
   "source": [
    "temp_len=len(test_data)-100"
   ]
  },
  {
   "cell_type": "code",
   "execution_count": 39,
   "id": "fb54ebd0",
   "metadata": {},
   "outputs": [
    {
     "data": {
      "text/plain": [
       "(1, 100)"
      ]
     },
     "execution_count": 39,
     "metadata": {},
     "output_type": "execute_result"
    }
   ],
   "source": [
    "x_input=test_data[temp_len:].reshape(1,-1)\n",
    "x_input.shape"
   ]
  },
  {
   "cell_type": "code",
   "execution_count": 40,
   "id": "9a8397c2",
   "metadata": {},
   "outputs": [],
   "source": [
    "temp_input=list(x_input)\n",
    "temp_input=temp_input[0].tolist()"
   ]
  },
  {
   "cell_type": "code",
   "execution_count": 41,
   "id": "1548dcdf",
   "metadata": {},
   "outputs": [
    {
     "data": {
      "text/plain": [
       "[0.7290597584979773,\n",
       " 0.7295594043703261,\n",
       " 0.7279952029824935,\n",
       " 0.7336221392786223,\n",
       " 0.7287338741565027,\n",
       " 0.7271695858661787,\n",
       " 0.7480696784173319,\n",
       " 0.7461143723684839,\n",
       " 0.760496778090144,\n",
       " 0.7550436033248894,\n",
       " 0.7614092107950273,\n",
       " 0.7578027139647957,\n",
       " 0.7567164328265469,\n",
       " 0.7450280912302351,\n",
       " 0.7611050520763177,\n",
       " 0.7719461378360409,\n",
       " 0.7869150484698643,\n",
       " 0.8036872726956718,\n",
       " 0.8144849506611106,\n",
       " 0.8034700164680221,\n",
       " 0.8069678417331833,\n",
       " 0.8123340271048868,\n",
       " 0.8151367193440601,\n",
       " 0.8203508688076543,\n",
       " 0.8218498933271922,\n",
       " 0.8180261837205564,\n",
       " 0.8218933011214765,\n",
       " 0.8301925324689431,\n",
       " 0.8196556054279295,\n",
       " 0.8238703762443348,\n",
       " 0.8293235075583442,\n",
       " 0.818482421798621,\n",
       " 0.8410336182286663,\n",
       " 0.8697114402784355,\n",
       " 0.8790534580673753,\n",
       " 0.8991278900509682,\n",
       " 0.8990627566339188,\n",
       " 0.8901552513002785,\n",
       " 0.8771198776412924,\n",
       " 0.8818995146495873,\n",
       " 0.8871353897359467,\n",
       " 0.8741000160769609,\n",
       " 0.8774457619827672,\n",
       " 0.8584358420634127,\n",
       " 0.8697331659012005,\n",
       " 0.947945407855116,\n",
       " 0.953572344151245,\n",
       " 0.9324984900692176,\n",
       " 0.9393637868629504,\n",
       " 0.9674549736468195,\n",
       " 0.9631533437905996,\n",
       " 0.9402979886418444,\n",
       " 0.9449038206680193,\n",
       " 0.9543544665707843,\n",
       " 0.9649565704800928,\n",
       " 0.9554841989545629,\n",
       " 0.9708876654949313,\n",
       " 0.9747113751015671,\n",
       " 0.9754934975211064,\n",
       " 0.9689323594460836,\n",
       " 0.9713221779502309,\n",
       " 0.967455017098065,\n",
       " 0.9792303046366823,\n",
       " 0.975797656239816,\n",
       " 0.9875512181556684,\n",
       " 0.9847703384417513,\n",
       " 0.9891589142402765,\n",
       " 0.9814028669131799,\n",
       " 0.9709745679859912,\n",
       " 0.988789578653272,\n",
       " 0.9999999999999999,\n",
       " 0.994307886835576,\n",
       " 0.9974798277592626,\n",
       " 0.9917877145948387,\n",
       " 0.9825760505424886,\n",
       " 0.9789261459179727,\n",
       " 0.9744289420056224,\n",
       " 0.9446213875720747,\n",
       " 0.9311949527033191,\n",
       " 0.9383861338385263,\n",
       " 0.9343017167587108,\n",
       " 0.941514623516683,\n",
       " 0.9522905324081113,\n",
       " 0.954463094684609,\n",
       " 0.948054035968941,\n",
       " 0.9891806398630417,\n",
       " 0.9941123562306912,\n",
       " 0.984227197872627,\n",
       " 0.9839664903994473,\n",
       " 0.9748417288381571,\n",
       " 0.971213549836406,\n",
       " 0.963805112473549,\n",
       " 0.9807510982302307,\n",
       " 0.9799907014334565,\n",
       " 0.9779267672707838,\n",
       " 0.9774922548154842,\n",
       " 0.9737988989454381,\n",
       " 0.9640223687011987,\n",
       " 0.9768404861325349,\n",
       " 0.9661949309776964]"
      ]
     },
     "execution_count": 41,
     "metadata": {},
     "output_type": "execute_result"
    }
   ],
   "source": [
    "temp_input"
   ]
  },
  {
   "cell_type": "code",
   "execution_count": 42,
   "id": "57d731ea",
   "metadata": {},
   "outputs": [
    {
     "name": "stdout",
     "output_type": "stream",
     "text": [
      "[0.9593462]\n",
      "101\n",
      "1 day input [0.7295594  0.7279952  0.73362214 0.72873387 0.72716959 0.74806968\n",
      " 0.74611437 0.76049678 0.7550436  0.76140921 0.75780271 0.75671643\n",
      " 0.74502809 0.76110505 0.77194614 0.78691505 0.80368727 0.81448495\n",
      " 0.80347002 0.80696784 0.81233403 0.81513672 0.82035087 0.82184989\n",
      " 0.81802618 0.8218933  0.83019253 0.81965561 0.82387038 0.82932351\n",
      " 0.81848242 0.84103362 0.86971144 0.87905346 0.89912789 0.89906276\n",
      " 0.89015525 0.87711988 0.88189951 0.88713539 0.87410002 0.87744576\n",
      " 0.85843584 0.86973317 0.94794541 0.95357234 0.93249849 0.93936379\n",
      " 0.96745497 0.96315334 0.94029799 0.94490382 0.95435447 0.96495657\n",
      " 0.9554842  0.97088767 0.97471138 0.9754935  0.96893236 0.97132218\n",
      " 0.96745502 0.9792303  0.97579766 0.98755122 0.98477034 0.98915891\n",
      " 0.98140287 0.97097457 0.98878958 1.         0.99430789 0.99747983\n",
      " 0.99178771 0.98257605 0.97892615 0.97442894 0.94462139 0.93119495\n",
      " 0.93838613 0.93430172 0.94151462 0.95229053 0.95446309 0.94805404\n",
      " 0.98918064 0.99411236 0.9842272  0.98396649 0.97484173 0.97121355\n",
      " 0.96380511 0.9807511  0.9799907  0.97792677 0.97749225 0.9737989\n",
      " 0.96402237 0.97684049 0.96619493 0.95934618]\n",
      "1 day output [[0.95146734]]\n",
      "2 day input [0.7279952  0.73362214 0.72873387 0.72716959 0.74806968 0.74611437\n",
      " 0.76049678 0.7550436  0.76140921 0.75780271 0.75671643 0.74502809\n",
      " 0.76110505 0.77194614 0.78691505 0.80368727 0.81448495 0.80347002\n",
      " 0.80696784 0.81233403 0.81513672 0.82035087 0.82184989 0.81802618\n",
      " 0.8218933  0.83019253 0.81965561 0.82387038 0.82932351 0.81848242\n",
      " 0.84103362 0.86971144 0.87905346 0.89912789 0.89906276 0.89015525\n",
      " 0.87711988 0.88189951 0.88713539 0.87410002 0.87744576 0.85843584\n",
      " 0.86973317 0.94794541 0.95357234 0.93249849 0.93936379 0.96745497\n",
      " 0.96315334 0.94029799 0.94490382 0.95435447 0.96495657 0.9554842\n",
      " 0.97088767 0.97471138 0.9754935  0.96893236 0.97132218 0.96745502\n",
      " 0.9792303  0.97579766 0.98755122 0.98477034 0.98915891 0.98140287\n",
      " 0.97097457 0.98878958 1.         0.99430789 0.99747983 0.99178771\n",
      " 0.98257605 0.97892615 0.97442894 0.94462139 0.93119495 0.93838613\n",
      " 0.93430172 0.94151462 0.95229053 0.95446309 0.94805404 0.98918064\n",
      " 0.99411236 0.9842272  0.98396649 0.97484173 0.97121355 0.96380511\n",
      " 0.9807511  0.9799907  0.97792677 0.97749225 0.9737989  0.96402237\n",
      " 0.97684049 0.96619493 0.95934618 0.95146734]\n",
      "2 day output [[0.9447072]]\n",
      "3 day input [0.73362214 0.72873387 0.72716959 0.74806968 0.74611437 0.76049678\n",
      " 0.7550436  0.76140921 0.75780271 0.75671643 0.74502809 0.76110505\n",
      " 0.77194614 0.78691505 0.80368727 0.81448495 0.80347002 0.80696784\n",
      " 0.81233403 0.81513672 0.82035087 0.82184989 0.81802618 0.8218933\n",
      " 0.83019253 0.81965561 0.82387038 0.82932351 0.81848242 0.84103362\n",
      " 0.86971144 0.87905346 0.89912789 0.89906276 0.89015525 0.87711988\n",
      " 0.88189951 0.88713539 0.87410002 0.87744576 0.85843584 0.86973317\n",
      " 0.94794541 0.95357234 0.93249849 0.93936379 0.96745497 0.96315334\n",
      " 0.94029799 0.94490382 0.95435447 0.96495657 0.9554842  0.97088767\n",
      " 0.97471138 0.9754935  0.96893236 0.97132218 0.96745502 0.9792303\n",
      " 0.97579766 0.98755122 0.98477034 0.98915891 0.98140287 0.97097457\n",
      " 0.98878958 1.         0.99430789 0.99747983 0.99178771 0.98257605\n",
      " 0.97892615 0.97442894 0.94462139 0.93119495 0.93838613 0.93430172\n",
      " 0.94151462 0.95229053 0.95446309 0.94805404 0.98918064 0.99411236\n",
      " 0.9842272  0.98396649 0.97484173 0.97121355 0.96380511 0.9807511\n",
      " 0.9799907  0.97792677 0.97749225 0.9737989  0.96402237 0.97684049\n",
      " 0.96619493 0.95934618 0.95146734 0.94470721]\n",
      "3 day output [[0.9393107]]\n",
      "4 day input [0.72873387 0.72716959 0.74806968 0.74611437 0.76049678 0.7550436\n",
      " 0.76140921 0.75780271 0.75671643 0.74502809 0.76110505 0.77194614\n",
      " 0.78691505 0.80368727 0.81448495 0.80347002 0.80696784 0.81233403\n",
      " 0.81513672 0.82035087 0.82184989 0.81802618 0.8218933  0.83019253\n",
      " 0.81965561 0.82387038 0.82932351 0.81848242 0.84103362 0.86971144\n",
      " 0.87905346 0.89912789 0.89906276 0.89015525 0.87711988 0.88189951\n",
      " 0.88713539 0.87410002 0.87744576 0.85843584 0.86973317 0.94794541\n",
      " 0.95357234 0.93249849 0.93936379 0.96745497 0.96315334 0.94029799\n",
      " 0.94490382 0.95435447 0.96495657 0.9554842  0.97088767 0.97471138\n",
      " 0.9754935  0.96893236 0.97132218 0.96745502 0.9792303  0.97579766\n",
      " 0.98755122 0.98477034 0.98915891 0.98140287 0.97097457 0.98878958\n",
      " 1.         0.99430789 0.99747983 0.99178771 0.98257605 0.97892615\n",
      " 0.97442894 0.94462139 0.93119495 0.93838613 0.93430172 0.94151462\n",
      " 0.95229053 0.95446309 0.94805404 0.98918064 0.99411236 0.9842272\n",
      " 0.98396649 0.97484173 0.97121355 0.96380511 0.9807511  0.9799907\n",
      " 0.97792677 0.97749225 0.9737989  0.96402237 0.97684049 0.96619493\n",
      " 0.95934618 0.95146734 0.94470721 0.93931073]\n",
      "4 day output [[0.93507075]]\n",
      "5 day input [0.72716959 0.74806968 0.74611437 0.76049678 0.7550436  0.76140921\n",
      " 0.75780271 0.75671643 0.74502809 0.76110505 0.77194614 0.78691505\n",
      " 0.80368727 0.81448495 0.80347002 0.80696784 0.81233403 0.81513672\n",
      " 0.82035087 0.82184989 0.81802618 0.8218933  0.83019253 0.81965561\n",
      " 0.82387038 0.82932351 0.81848242 0.84103362 0.86971144 0.87905346\n",
      " 0.89912789 0.89906276 0.89015525 0.87711988 0.88189951 0.88713539\n",
      " 0.87410002 0.87744576 0.85843584 0.86973317 0.94794541 0.95357234\n",
      " 0.93249849 0.93936379 0.96745497 0.96315334 0.94029799 0.94490382\n",
      " 0.95435447 0.96495657 0.9554842  0.97088767 0.97471138 0.9754935\n",
      " 0.96893236 0.97132218 0.96745502 0.9792303  0.97579766 0.98755122\n",
      " 0.98477034 0.98915891 0.98140287 0.97097457 0.98878958 1.\n",
      " 0.99430789 0.99747983 0.99178771 0.98257605 0.97892615 0.97442894\n",
      " 0.94462139 0.93119495 0.93838613 0.93430172 0.94151462 0.95229053\n",
      " 0.95446309 0.94805404 0.98918064 0.99411236 0.9842272  0.98396649\n",
      " 0.97484173 0.97121355 0.96380511 0.9807511  0.9799907  0.97792677\n",
      " 0.97749225 0.9737989  0.96402237 0.97684049 0.96619493 0.95934618\n",
      " 0.95146734 0.94470721 0.93931073 0.93507075]\n",
      "5 day output [[0.93154866]]\n",
      "6 day input [0.74806968 0.74611437 0.76049678 0.7550436  0.76140921 0.75780271\n",
      " 0.75671643 0.74502809 0.76110505 0.77194614 0.78691505 0.80368727\n",
      " 0.81448495 0.80347002 0.80696784 0.81233403 0.81513672 0.82035087\n",
      " 0.82184989 0.81802618 0.8218933  0.83019253 0.81965561 0.82387038\n",
      " 0.82932351 0.81848242 0.84103362 0.86971144 0.87905346 0.89912789\n",
      " 0.89906276 0.89015525 0.87711988 0.88189951 0.88713539 0.87410002\n",
      " 0.87744576 0.85843584 0.86973317 0.94794541 0.95357234 0.93249849\n",
      " 0.93936379 0.96745497 0.96315334 0.94029799 0.94490382 0.95435447\n",
      " 0.96495657 0.9554842  0.97088767 0.97471138 0.9754935  0.96893236\n",
      " 0.97132218 0.96745502 0.9792303  0.97579766 0.98755122 0.98477034\n",
      " 0.98915891 0.98140287 0.97097457 0.98878958 1.         0.99430789\n",
      " 0.99747983 0.99178771 0.98257605 0.97892615 0.97442894 0.94462139\n",
      " 0.93119495 0.93838613 0.93430172 0.94151462 0.95229053 0.95446309\n",
      " 0.94805404 0.98918064 0.99411236 0.9842272  0.98396649 0.97484173\n",
      " 0.97121355 0.96380511 0.9807511  0.9799907  0.97792677 0.97749225\n",
      " 0.9737989  0.96402237 0.97684049 0.96619493 0.95934618 0.95146734\n",
      " 0.94470721 0.93931073 0.93507075 0.93154866]\n",
      "6 day output [[0.9282981]]\n",
      "7 day input [0.74611437 0.76049678 0.7550436  0.76140921 0.75780271 0.75671643\n",
      " 0.74502809 0.76110505 0.77194614 0.78691505 0.80368727 0.81448495\n",
      " 0.80347002 0.80696784 0.81233403 0.81513672 0.82035087 0.82184989\n",
      " 0.81802618 0.8218933  0.83019253 0.81965561 0.82387038 0.82932351\n",
      " 0.81848242 0.84103362 0.86971144 0.87905346 0.89912789 0.89906276\n",
      " 0.89015525 0.87711988 0.88189951 0.88713539 0.87410002 0.87744576\n",
      " 0.85843584 0.86973317 0.94794541 0.95357234 0.93249849 0.93936379\n",
      " 0.96745497 0.96315334 0.94029799 0.94490382 0.95435447 0.96495657\n",
      " 0.9554842  0.97088767 0.97471138 0.9754935  0.96893236 0.97132218\n",
      " 0.96745502 0.9792303  0.97579766 0.98755122 0.98477034 0.98915891\n",
      " 0.98140287 0.97097457 0.98878958 1.         0.99430789 0.99747983\n",
      " 0.99178771 0.98257605 0.97892615 0.97442894 0.94462139 0.93119495\n",
      " 0.93838613 0.93430172 0.94151462 0.95229053 0.95446309 0.94805404\n",
      " 0.98918064 0.99411236 0.9842272  0.98396649 0.97484173 0.97121355\n",
      " 0.96380511 0.9807511  0.9799907  0.97792677 0.97749225 0.9737989\n",
      " 0.96402237 0.97684049 0.96619493 0.95934618 0.95146734 0.94470721\n",
      " 0.93931073 0.93507075 0.93154866 0.92829812]\n",
      "7 day output [[0.92499787]]\n",
      "8 day input [0.76049678 0.7550436  0.76140921 0.75780271 0.75671643 0.74502809\n",
      " 0.76110505 0.77194614 0.78691505 0.80368727 0.81448495 0.80347002\n",
      " 0.80696784 0.81233403 0.81513672 0.82035087 0.82184989 0.81802618\n",
      " 0.8218933  0.83019253 0.81965561 0.82387038 0.82932351 0.81848242\n",
      " 0.84103362 0.86971144 0.87905346 0.89912789 0.89906276 0.89015525\n",
      " 0.87711988 0.88189951 0.88713539 0.87410002 0.87744576 0.85843584\n",
      " 0.86973317 0.94794541 0.95357234 0.93249849 0.93936379 0.96745497\n",
      " 0.96315334 0.94029799 0.94490382 0.95435447 0.96495657 0.9554842\n",
      " 0.97088767 0.97471138 0.9754935  0.96893236 0.97132218 0.96745502\n",
      " 0.9792303  0.97579766 0.98755122 0.98477034 0.98915891 0.98140287\n",
      " 0.97097457 0.98878958 1.         0.99430789 0.99747983 0.99178771\n",
      " 0.98257605 0.97892615 0.97442894 0.94462139 0.93119495 0.93838613\n",
      " 0.93430172 0.94151462 0.95229053 0.95446309 0.94805404 0.98918064\n",
      " 0.99411236 0.9842272  0.98396649 0.97484173 0.97121355 0.96380511\n",
      " 0.9807511  0.9799907  0.97792677 0.97749225 0.9737989  0.96402237\n",
      " 0.97684049 0.96619493 0.95934618 0.95146734 0.94470721 0.93931073\n",
      " 0.93507075 0.93154866 0.92829812 0.92499787]\n"
     ]
    },
    {
     "name": "stdout",
     "output_type": "stream",
     "text": [
      "8 day output [[0.92149395]]\n",
      "9 day input [0.7550436  0.76140921 0.75780271 0.75671643 0.74502809 0.76110505\n",
      " 0.77194614 0.78691505 0.80368727 0.81448495 0.80347002 0.80696784\n",
      " 0.81233403 0.81513672 0.82035087 0.82184989 0.81802618 0.8218933\n",
      " 0.83019253 0.81965561 0.82387038 0.82932351 0.81848242 0.84103362\n",
      " 0.86971144 0.87905346 0.89912789 0.89906276 0.89015525 0.87711988\n",
      " 0.88189951 0.88713539 0.87410002 0.87744576 0.85843584 0.86973317\n",
      " 0.94794541 0.95357234 0.93249849 0.93936379 0.96745497 0.96315334\n",
      " 0.94029799 0.94490382 0.95435447 0.96495657 0.9554842  0.97088767\n",
      " 0.97471138 0.9754935  0.96893236 0.97132218 0.96745502 0.9792303\n",
      " 0.97579766 0.98755122 0.98477034 0.98915891 0.98140287 0.97097457\n",
      " 0.98878958 1.         0.99430789 0.99747983 0.99178771 0.98257605\n",
      " 0.97892615 0.97442894 0.94462139 0.93119495 0.93838613 0.93430172\n",
      " 0.94151462 0.95229053 0.95446309 0.94805404 0.98918064 0.99411236\n",
      " 0.9842272  0.98396649 0.97484173 0.97121355 0.96380511 0.9807511\n",
      " 0.9799907  0.97792677 0.97749225 0.9737989  0.96402237 0.97684049\n",
      " 0.96619493 0.95934618 0.95146734 0.94470721 0.93931073 0.93507075\n",
      " 0.93154866 0.92829812 0.92499787 0.92149395]\n",
      "9 day output [[0.9177772]]\n",
      "10 day input [0.76140921 0.75780271 0.75671643 0.74502809 0.76110505 0.77194614\n",
      " 0.78691505 0.80368727 0.81448495 0.80347002 0.80696784 0.81233403\n",
      " 0.81513672 0.82035087 0.82184989 0.81802618 0.8218933  0.83019253\n",
      " 0.81965561 0.82387038 0.82932351 0.81848242 0.84103362 0.86971144\n",
      " 0.87905346 0.89912789 0.89906276 0.89015525 0.87711988 0.88189951\n",
      " 0.88713539 0.87410002 0.87744576 0.85843584 0.86973317 0.94794541\n",
      " 0.95357234 0.93249849 0.93936379 0.96745497 0.96315334 0.94029799\n",
      " 0.94490382 0.95435447 0.96495657 0.9554842  0.97088767 0.97471138\n",
      " 0.9754935  0.96893236 0.97132218 0.96745502 0.9792303  0.97579766\n",
      " 0.98755122 0.98477034 0.98915891 0.98140287 0.97097457 0.98878958\n",
      " 1.         0.99430789 0.99747983 0.99178771 0.98257605 0.97892615\n",
      " 0.97442894 0.94462139 0.93119495 0.93838613 0.93430172 0.94151462\n",
      " 0.95229053 0.95446309 0.94805404 0.98918064 0.99411236 0.9842272\n",
      " 0.98396649 0.97484173 0.97121355 0.96380511 0.9807511  0.9799907\n",
      " 0.97792677 0.97749225 0.9737989  0.96402237 0.97684049 0.96619493\n",
      " 0.95934618 0.95146734 0.94470721 0.93931073 0.93507075 0.93154866\n",
      " 0.92829812 0.92499787 0.92149395 0.91777718]\n",
      "10 day output [[0.91393]]\n",
      "11 day input [0.75780271 0.75671643 0.74502809 0.76110505 0.77194614 0.78691505\n",
      " 0.80368727 0.81448495 0.80347002 0.80696784 0.81233403 0.81513672\n",
      " 0.82035087 0.82184989 0.81802618 0.8218933  0.83019253 0.81965561\n",
      " 0.82387038 0.82932351 0.81848242 0.84103362 0.86971144 0.87905346\n",
      " 0.89912789 0.89906276 0.89015525 0.87711988 0.88189951 0.88713539\n",
      " 0.87410002 0.87744576 0.85843584 0.86973317 0.94794541 0.95357234\n",
      " 0.93249849 0.93936379 0.96745497 0.96315334 0.94029799 0.94490382\n",
      " 0.95435447 0.96495657 0.9554842  0.97088767 0.97471138 0.9754935\n",
      " 0.96893236 0.97132218 0.96745502 0.9792303  0.97579766 0.98755122\n",
      " 0.98477034 0.98915891 0.98140287 0.97097457 0.98878958 1.\n",
      " 0.99430789 0.99747983 0.99178771 0.98257605 0.97892615 0.97442894\n",
      " 0.94462139 0.93119495 0.93838613 0.93430172 0.94151462 0.95229053\n",
      " 0.95446309 0.94805404 0.98918064 0.99411236 0.9842272  0.98396649\n",
      " 0.97484173 0.97121355 0.96380511 0.9807511  0.9799907  0.97792677\n",
      " 0.97749225 0.9737989  0.96402237 0.97684049 0.96619493 0.95934618\n",
      " 0.95146734 0.94470721 0.93931073 0.93507075 0.93154866 0.92829812\n",
      " 0.92499787 0.92149395 0.91777718 0.91393   ]\n",
      "11 day output [[0.910069]]\n",
      "12 day input [0.75671643 0.74502809 0.76110505 0.77194614 0.78691505 0.80368727\n",
      " 0.81448495 0.80347002 0.80696784 0.81233403 0.81513672 0.82035087\n",
      " 0.82184989 0.81802618 0.8218933  0.83019253 0.81965561 0.82387038\n",
      " 0.82932351 0.81848242 0.84103362 0.86971144 0.87905346 0.89912789\n",
      " 0.89906276 0.89015525 0.87711988 0.88189951 0.88713539 0.87410002\n",
      " 0.87744576 0.85843584 0.86973317 0.94794541 0.95357234 0.93249849\n",
      " 0.93936379 0.96745497 0.96315334 0.94029799 0.94490382 0.95435447\n",
      " 0.96495657 0.9554842  0.97088767 0.97471138 0.9754935  0.96893236\n",
      " 0.97132218 0.96745502 0.9792303  0.97579766 0.98755122 0.98477034\n",
      " 0.98915891 0.98140287 0.97097457 0.98878958 1.         0.99430789\n",
      " 0.99747983 0.99178771 0.98257605 0.97892615 0.97442894 0.94462139\n",
      " 0.93119495 0.93838613 0.93430172 0.94151462 0.95229053 0.95446309\n",
      " 0.94805404 0.98918064 0.99411236 0.9842272  0.98396649 0.97484173\n",
      " 0.97121355 0.96380511 0.9807511  0.9799907  0.97792677 0.97749225\n",
      " 0.9737989  0.96402237 0.97684049 0.96619493 0.95934618 0.95146734\n",
      " 0.94470721 0.93931073 0.93507075 0.93154866 0.92829812 0.92499787\n",
      " 0.92149395 0.91777718 0.91393    0.91006899]\n",
      "12 day output [[0.90630156]]\n",
      "13 day input [0.74502809 0.76110505 0.77194614 0.78691505 0.80368727 0.81448495\n",
      " 0.80347002 0.80696784 0.81233403 0.81513672 0.82035087 0.82184989\n",
      " 0.81802618 0.8218933  0.83019253 0.81965561 0.82387038 0.82932351\n",
      " 0.81848242 0.84103362 0.86971144 0.87905346 0.89912789 0.89906276\n",
      " 0.89015525 0.87711988 0.88189951 0.88713539 0.87410002 0.87744576\n",
      " 0.85843584 0.86973317 0.94794541 0.95357234 0.93249849 0.93936379\n",
      " 0.96745497 0.96315334 0.94029799 0.94490382 0.95435447 0.96495657\n",
      " 0.9554842  0.97088767 0.97471138 0.9754935  0.96893236 0.97132218\n",
      " 0.96745502 0.9792303  0.97579766 0.98755122 0.98477034 0.98915891\n",
      " 0.98140287 0.97097457 0.98878958 1.         0.99430789 0.99747983\n",
      " 0.99178771 0.98257605 0.97892615 0.97442894 0.94462139 0.93119495\n",
      " 0.93838613 0.93430172 0.94151462 0.95229053 0.95446309 0.94805404\n",
      " 0.98918064 0.99411236 0.9842272  0.98396649 0.97484173 0.97121355\n",
      " 0.96380511 0.9807511  0.9799907  0.97792677 0.97749225 0.9737989\n",
      " 0.96402237 0.97684049 0.96619493 0.95934618 0.95146734 0.94470721\n",
      " 0.93931073 0.93507075 0.93154866 0.92829812 0.92499787 0.92149395\n",
      " 0.91777718 0.91393    0.91006899 0.90630156]\n",
      "13 day output [[0.9027016]]\n",
      "14 day input [0.76110505 0.77194614 0.78691505 0.80368727 0.81448495 0.80347002\n",
      " 0.80696784 0.81233403 0.81513672 0.82035087 0.82184989 0.81802618\n",
      " 0.8218933  0.83019253 0.81965561 0.82387038 0.82932351 0.81848242\n",
      " 0.84103362 0.86971144 0.87905346 0.89912789 0.89906276 0.89015525\n",
      " 0.87711988 0.88189951 0.88713539 0.87410002 0.87744576 0.85843584\n",
      " 0.86973317 0.94794541 0.95357234 0.93249849 0.93936379 0.96745497\n",
      " 0.96315334 0.94029799 0.94490382 0.95435447 0.96495657 0.9554842\n",
      " 0.97088767 0.97471138 0.9754935  0.96893236 0.97132218 0.96745502\n",
      " 0.9792303  0.97579766 0.98755122 0.98477034 0.98915891 0.98140287\n",
      " 0.97097457 0.98878958 1.         0.99430789 0.99747983 0.99178771\n",
      " 0.98257605 0.97892615 0.97442894 0.94462139 0.93119495 0.93838613\n",
      " 0.93430172 0.94151462 0.95229053 0.95446309 0.94805404 0.98918064\n",
      " 0.99411236 0.9842272  0.98396649 0.97484173 0.97121355 0.96380511\n",
      " 0.9807511  0.9799907  0.97792677 0.97749225 0.9737989  0.96402237\n",
      " 0.97684049 0.96619493 0.95934618 0.95146734 0.94470721 0.93931073\n",
      " 0.93507075 0.93154866 0.92829812 0.92499787 0.92149395 0.91777718\n",
      " 0.91393    0.91006899 0.90630156 0.90270162]\n",
      "14 day output [[0.8993037]]\n",
      "15 day input [0.77194614 0.78691505 0.80368727 0.81448495 0.80347002 0.80696784\n",
      " 0.81233403 0.81513672 0.82035087 0.82184989 0.81802618 0.8218933\n",
      " 0.83019253 0.81965561 0.82387038 0.82932351 0.81848242 0.84103362\n",
      " 0.86971144 0.87905346 0.89912789 0.89906276 0.89015525 0.87711988\n",
      " 0.88189951 0.88713539 0.87410002 0.87744576 0.85843584 0.86973317\n",
      " 0.94794541 0.95357234 0.93249849 0.93936379 0.96745497 0.96315334\n",
      " 0.94029799 0.94490382 0.95435447 0.96495657 0.9554842  0.97088767\n",
      " 0.97471138 0.9754935  0.96893236 0.97132218 0.96745502 0.9792303\n",
      " 0.97579766 0.98755122 0.98477034 0.98915891 0.98140287 0.97097457\n",
      " 0.98878958 1.         0.99430789 0.99747983 0.99178771 0.98257605\n",
      " 0.97892615 0.97442894 0.94462139 0.93119495 0.93838613 0.93430172\n",
      " 0.94151462 0.95229053 0.95446309 0.94805404 0.98918064 0.99411236\n",
      " 0.9842272  0.98396649 0.97484173 0.97121355 0.96380511 0.9807511\n",
      " 0.9799907  0.97792677 0.97749225 0.9737989  0.96402237 0.97684049\n",
      " 0.96619493 0.95934618 0.95146734 0.94470721 0.93931073 0.93507075\n",
      " 0.93154866 0.92829812 0.92499787 0.92149395 0.91777718 0.91393\n",
      " 0.91006899 0.90630156 0.90270162 0.89930367]\n",
      "15 day output [[0.89611024]]\n",
      "16 day input [0.78691505 0.80368727 0.81448495 0.80347002 0.80696784 0.81233403\n",
      " 0.81513672 0.82035087 0.82184989 0.81802618 0.8218933  0.83019253\n",
      " 0.81965561 0.82387038 0.82932351 0.81848242 0.84103362 0.86971144\n",
      " 0.87905346 0.89912789 0.89906276 0.89015525 0.87711988 0.88189951\n",
      " 0.88713539 0.87410002 0.87744576 0.85843584 0.86973317 0.94794541\n",
      " 0.95357234 0.93249849 0.93936379 0.96745497 0.96315334 0.94029799\n",
      " 0.94490382 0.95435447 0.96495657 0.9554842  0.97088767 0.97471138\n",
      " 0.9754935  0.96893236 0.97132218 0.96745502 0.9792303  0.97579766\n",
      " 0.98755122 0.98477034 0.98915891 0.98140287 0.97097457 0.98878958\n",
      " 1.         0.99430789 0.99747983 0.99178771 0.98257605 0.97892615\n",
      " 0.97442894 0.94462139 0.93119495 0.93838613 0.93430172 0.94151462\n",
      " 0.95229053 0.95446309 0.94805404 0.98918064 0.99411236 0.9842272\n",
      " 0.98396649 0.97484173 0.97121355 0.96380511 0.9807511  0.9799907\n",
      " 0.97792677 0.97749225 0.9737989  0.96402237 0.97684049 0.96619493\n",
      " 0.95934618 0.95146734 0.94470721 0.93931073 0.93507075 0.93154866\n",
      " 0.92829812 0.92499787 0.92149395 0.91777718 0.91393    0.91006899\n",
      " 0.90630156 0.90270162 0.89930367 0.89611024]\n"
     ]
    },
    {
     "name": "stdout",
     "output_type": "stream",
     "text": [
      "16 day output [[0.8931034]]\n",
      "17 day input [0.80368727 0.81448495 0.80347002 0.80696784 0.81233403 0.81513672\n",
      " 0.82035087 0.82184989 0.81802618 0.8218933  0.83019253 0.81965561\n",
      " 0.82387038 0.82932351 0.81848242 0.84103362 0.86971144 0.87905346\n",
      " 0.89912789 0.89906276 0.89015525 0.87711988 0.88189951 0.88713539\n",
      " 0.87410002 0.87744576 0.85843584 0.86973317 0.94794541 0.95357234\n",
      " 0.93249849 0.93936379 0.96745497 0.96315334 0.94029799 0.94490382\n",
      " 0.95435447 0.96495657 0.9554842  0.97088767 0.97471138 0.9754935\n",
      " 0.96893236 0.97132218 0.96745502 0.9792303  0.97579766 0.98755122\n",
      " 0.98477034 0.98915891 0.98140287 0.97097457 0.98878958 1.\n",
      " 0.99430789 0.99747983 0.99178771 0.98257605 0.97892615 0.97442894\n",
      " 0.94462139 0.93119495 0.93838613 0.93430172 0.94151462 0.95229053\n",
      " 0.95446309 0.94805404 0.98918064 0.99411236 0.9842272  0.98396649\n",
      " 0.97484173 0.97121355 0.96380511 0.9807511  0.9799907  0.97792677\n",
      " 0.97749225 0.9737989  0.96402237 0.97684049 0.96619493 0.95934618\n",
      " 0.95146734 0.94470721 0.93931073 0.93507075 0.93154866 0.92829812\n",
      " 0.92499787 0.92149395 0.91777718 0.91393    0.91006899 0.90630156\n",
      " 0.90270162 0.89930367 0.89611024 0.89310342]\n",
      "17 day output [[0.89025825]]\n",
      "18 day input [0.81448495 0.80347002 0.80696784 0.81233403 0.81513672 0.82035087\n",
      " 0.82184989 0.81802618 0.8218933  0.83019253 0.81965561 0.82387038\n",
      " 0.82932351 0.81848242 0.84103362 0.86971144 0.87905346 0.89912789\n",
      " 0.89906276 0.89015525 0.87711988 0.88189951 0.88713539 0.87410002\n",
      " 0.87744576 0.85843584 0.86973317 0.94794541 0.95357234 0.93249849\n",
      " 0.93936379 0.96745497 0.96315334 0.94029799 0.94490382 0.95435447\n",
      " 0.96495657 0.9554842  0.97088767 0.97471138 0.9754935  0.96893236\n",
      " 0.97132218 0.96745502 0.9792303  0.97579766 0.98755122 0.98477034\n",
      " 0.98915891 0.98140287 0.97097457 0.98878958 1.         0.99430789\n",
      " 0.99747983 0.99178771 0.98257605 0.97892615 0.97442894 0.94462139\n",
      " 0.93119495 0.93838613 0.93430172 0.94151462 0.95229053 0.95446309\n",
      " 0.94805404 0.98918064 0.99411236 0.9842272  0.98396649 0.97484173\n",
      " 0.97121355 0.96380511 0.9807511  0.9799907  0.97792677 0.97749225\n",
      " 0.9737989  0.96402237 0.97684049 0.96619493 0.95934618 0.95146734\n",
      " 0.94470721 0.93931073 0.93507075 0.93154866 0.92829812 0.92499787\n",
      " 0.92149395 0.91777718 0.91393    0.91006899 0.90630156 0.90270162\n",
      " 0.89930367 0.89611024 0.89310342 0.89025825]\n",
      "18 day output [[0.8875505]]\n",
      "19 day input [0.80347002 0.80696784 0.81233403 0.81513672 0.82035087 0.82184989\n",
      " 0.81802618 0.8218933  0.83019253 0.81965561 0.82387038 0.82932351\n",
      " 0.81848242 0.84103362 0.86971144 0.87905346 0.89912789 0.89906276\n",
      " 0.89015525 0.87711988 0.88189951 0.88713539 0.87410002 0.87744576\n",
      " 0.85843584 0.86973317 0.94794541 0.95357234 0.93249849 0.93936379\n",
      " 0.96745497 0.96315334 0.94029799 0.94490382 0.95435447 0.96495657\n",
      " 0.9554842  0.97088767 0.97471138 0.9754935  0.96893236 0.97132218\n",
      " 0.96745502 0.9792303  0.97579766 0.98755122 0.98477034 0.98915891\n",
      " 0.98140287 0.97097457 0.98878958 1.         0.99430789 0.99747983\n",
      " 0.99178771 0.98257605 0.97892615 0.97442894 0.94462139 0.93119495\n",
      " 0.93838613 0.93430172 0.94151462 0.95229053 0.95446309 0.94805404\n",
      " 0.98918064 0.99411236 0.9842272  0.98396649 0.97484173 0.97121355\n",
      " 0.96380511 0.9807511  0.9799907  0.97792677 0.97749225 0.9737989\n",
      " 0.96402237 0.97684049 0.96619493 0.95934618 0.95146734 0.94470721\n",
      " 0.93931073 0.93507075 0.93154866 0.92829812 0.92499787 0.92149395\n",
      " 0.91777718 0.91393    0.91006899 0.90630156 0.90270162 0.89930367\n",
      " 0.89611024 0.89310342 0.89025825 0.88755047]\n",
      "19 day output [[0.8849634]]\n",
      "20 day input [0.80696784 0.81233403 0.81513672 0.82035087 0.82184989 0.81802618\n",
      " 0.8218933  0.83019253 0.81965561 0.82387038 0.82932351 0.81848242\n",
      " 0.84103362 0.86971144 0.87905346 0.89912789 0.89906276 0.89015525\n",
      " 0.87711988 0.88189951 0.88713539 0.87410002 0.87744576 0.85843584\n",
      " 0.86973317 0.94794541 0.95357234 0.93249849 0.93936379 0.96745497\n",
      " 0.96315334 0.94029799 0.94490382 0.95435447 0.96495657 0.9554842\n",
      " 0.97088767 0.97471138 0.9754935  0.96893236 0.97132218 0.96745502\n",
      " 0.9792303  0.97579766 0.98755122 0.98477034 0.98915891 0.98140287\n",
      " 0.97097457 0.98878958 1.         0.99430789 0.99747983 0.99178771\n",
      " 0.98257605 0.97892615 0.97442894 0.94462139 0.93119495 0.93838613\n",
      " 0.93430172 0.94151462 0.95229053 0.95446309 0.94805404 0.98918064\n",
      " 0.99411236 0.9842272  0.98396649 0.97484173 0.97121355 0.96380511\n",
      " 0.9807511  0.9799907  0.97792677 0.97749225 0.9737989  0.96402237\n",
      " 0.97684049 0.96619493 0.95934618 0.95146734 0.94470721 0.93931073\n",
      " 0.93507075 0.93154866 0.92829812 0.92499787 0.92149395 0.91777718\n",
      " 0.91393    0.91006899 0.90630156 0.90270162 0.89930367 0.89611024\n",
      " 0.89310342 0.89025825 0.88755047 0.88496339]\n",
      "20 day output [[0.8824873]]\n",
      "21 day input [0.81233403 0.81513672 0.82035087 0.82184989 0.81802618 0.8218933\n",
      " 0.83019253 0.81965561 0.82387038 0.82932351 0.81848242 0.84103362\n",
      " 0.86971144 0.87905346 0.89912789 0.89906276 0.89015525 0.87711988\n",
      " 0.88189951 0.88713539 0.87410002 0.87744576 0.85843584 0.86973317\n",
      " 0.94794541 0.95357234 0.93249849 0.93936379 0.96745497 0.96315334\n",
      " 0.94029799 0.94490382 0.95435447 0.96495657 0.9554842  0.97088767\n",
      " 0.97471138 0.9754935  0.96893236 0.97132218 0.96745502 0.9792303\n",
      " 0.97579766 0.98755122 0.98477034 0.98915891 0.98140287 0.97097457\n",
      " 0.98878958 1.         0.99430789 0.99747983 0.99178771 0.98257605\n",
      " 0.97892615 0.97442894 0.94462139 0.93119495 0.93838613 0.93430172\n",
      " 0.94151462 0.95229053 0.95446309 0.94805404 0.98918064 0.99411236\n",
      " 0.9842272  0.98396649 0.97484173 0.97121355 0.96380511 0.9807511\n",
      " 0.9799907  0.97792677 0.97749225 0.9737989  0.96402237 0.97684049\n",
      " 0.96619493 0.95934618 0.95146734 0.94470721 0.93931073 0.93507075\n",
      " 0.93154866 0.92829812 0.92499787 0.92149395 0.91777718 0.91393\n",
      " 0.91006899 0.90630156 0.90270162 0.89930367 0.89611024 0.89310342\n",
      " 0.89025825 0.88755047 0.88496339 0.8824873 ]\n",
      "21 day output [[0.8801189]]\n",
      "22 day input [0.81513672 0.82035087 0.82184989 0.81802618 0.8218933  0.83019253\n",
      " 0.81965561 0.82387038 0.82932351 0.81848242 0.84103362 0.86971144\n",
      " 0.87905346 0.89912789 0.89906276 0.89015525 0.87711988 0.88189951\n",
      " 0.88713539 0.87410002 0.87744576 0.85843584 0.86973317 0.94794541\n",
      " 0.95357234 0.93249849 0.93936379 0.96745497 0.96315334 0.94029799\n",
      " 0.94490382 0.95435447 0.96495657 0.9554842  0.97088767 0.97471138\n",
      " 0.9754935  0.96893236 0.97132218 0.96745502 0.9792303  0.97579766\n",
      " 0.98755122 0.98477034 0.98915891 0.98140287 0.97097457 0.98878958\n",
      " 1.         0.99430789 0.99747983 0.99178771 0.98257605 0.97892615\n",
      " 0.97442894 0.94462139 0.93119495 0.93838613 0.93430172 0.94151462\n",
      " 0.95229053 0.95446309 0.94805404 0.98918064 0.99411236 0.9842272\n",
      " 0.98396649 0.97484173 0.97121355 0.96380511 0.9807511  0.9799907\n",
      " 0.97792677 0.97749225 0.9737989  0.96402237 0.97684049 0.96619493\n",
      " 0.95934618 0.95146734 0.94470721 0.93931073 0.93507075 0.93154866\n",
      " 0.92829812 0.92499787 0.92149395 0.91777718 0.91393    0.91006899\n",
      " 0.90630156 0.90270162 0.89930367 0.89611024 0.89310342 0.89025825\n",
      " 0.88755047 0.88496339 0.8824873  0.88011891]\n",
      "22 day output [[0.87785846]]\n",
      "23 day input [0.82035087 0.82184989 0.81802618 0.8218933  0.83019253 0.81965561\n",
      " 0.82387038 0.82932351 0.81848242 0.84103362 0.86971144 0.87905346\n",
      " 0.89912789 0.89906276 0.89015525 0.87711988 0.88189951 0.88713539\n",
      " 0.87410002 0.87744576 0.85843584 0.86973317 0.94794541 0.95357234\n",
      " 0.93249849 0.93936379 0.96745497 0.96315334 0.94029799 0.94490382\n",
      " 0.95435447 0.96495657 0.9554842  0.97088767 0.97471138 0.9754935\n",
      " 0.96893236 0.97132218 0.96745502 0.9792303  0.97579766 0.98755122\n",
      " 0.98477034 0.98915891 0.98140287 0.97097457 0.98878958 1.\n",
      " 0.99430789 0.99747983 0.99178771 0.98257605 0.97892615 0.97442894\n",
      " 0.94462139 0.93119495 0.93838613 0.93430172 0.94151462 0.95229053\n",
      " 0.95446309 0.94805404 0.98918064 0.99411236 0.9842272  0.98396649\n",
      " 0.97484173 0.97121355 0.96380511 0.9807511  0.9799907  0.97792677\n",
      " 0.97749225 0.9737989  0.96402237 0.97684049 0.96619493 0.95934618\n",
      " 0.95146734 0.94470721 0.93931073 0.93507075 0.93154866 0.92829812\n",
      " 0.92499787 0.92149395 0.91777718 0.91393    0.91006899 0.90630156\n",
      " 0.90270162 0.89930367 0.89611024 0.89310342 0.89025825 0.88755047\n",
      " 0.88496339 0.8824873  0.88011891 0.87785846]\n",
      "23 day output [[0.8757074]]\n",
      "24 day input [0.82184989 0.81802618 0.8218933  0.83019253 0.81965561 0.82387038\n",
      " 0.82932351 0.81848242 0.84103362 0.86971144 0.87905346 0.89912789\n",
      " 0.89906276 0.89015525 0.87711988 0.88189951 0.88713539 0.87410002\n",
      " 0.87744576 0.85843584 0.86973317 0.94794541 0.95357234 0.93249849\n",
      " 0.93936379 0.96745497 0.96315334 0.94029799 0.94490382 0.95435447\n",
      " 0.96495657 0.9554842  0.97088767 0.97471138 0.9754935  0.96893236\n",
      " 0.97132218 0.96745502 0.9792303  0.97579766 0.98755122 0.98477034\n",
      " 0.98915891 0.98140287 0.97097457 0.98878958 1.         0.99430789\n",
      " 0.99747983 0.99178771 0.98257605 0.97892615 0.97442894 0.94462139\n",
      " 0.93119495 0.93838613 0.93430172 0.94151462 0.95229053 0.95446309\n",
      " 0.94805404 0.98918064 0.99411236 0.9842272  0.98396649 0.97484173\n",
      " 0.97121355 0.96380511 0.9807511  0.9799907  0.97792677 0.97749225\n",
      " 0.9737989  0.96402237 0.97684049 0.96619493 0.95934618 0.95146734\n",
      " 0.94470721 0.93931073 0.93507075 0.93154866 0.92829812 0.92499787\n",
      " 0.92149395 0.91777718 0.91393    0.91006899 0.90630156 0.90270162\n",
      " 0.89930367 0.89611024 0.89310342 0.89025825 0.88755047 0.88496339\n",
      " 0.8824873  0.88011891 0.87785846 0.87570739]\n"
     ]
    },
    {
     "name": "stdout",
     "output_type": "stream",
     "text": [
      "24 day output [[0.87366617]]\n",
      "25 day input [0.81802618 0.8218933  0.83019253 0.81965561 0.82387038 0.82932351\n",
      " 0.81848242 0.84103362 0.86971144 0.87905346 0.89912789 0.89906276\n",
      " 0.89015525 0.87711988 0.88189951 0.88713539 0.87410002 0.87744576\n",
      " 0.85843584 0.86973317 0.94794541 0.95357234 0.93249849 0.93936379\n",
      " 0.96745497 0.96315334 0.94029799 0.94490382 0.95435447 0.96495657\n",
      " 0.9554842  0.97088767 0.97471138 0.9754935  0.96893236 0.97132218\n",
      " 0.96745502 0.9792303  0.97579766 0.98755122 0.98477034 0.98915891\n",
      " 0.98140287 0.97097457 0.98878958 1.         0.99430789 0.99747983\n",
      " 0.99178771 0.98257605 0.97892615 0.97442894 0.94462139 0.93119495\n",
      " 0.93838613 0.93430172 0.94151462 0.95229053 0.95446309 0.94805404\n",
      " 0.98918064 0.99411236 0.9842272  0.98396649 0.97484173 0.97121355\n",
      " 0.96380511 0.9807511  0.9799907  0.97792677 0.97749225 0.9737989\n",
      " 0.96402237 0.97684049 0.96619493 0.95934618 0.95146734 0.94470721\n",
      " 0.93931073 0.93507075 0.93154866 0.92829812 0.92499787 0.92149395\n",
      " 0.91777718 0.91393    0.91006899 0.90630156 0.90270162 0.89930367\n",
      " 0.89611024 0.89310342 0.89025825 0.88755047 0.88496339 0.8824873\n",
      " 0.88011891 0.87785846 0.87570739 0.87366617]\n",
      "25 day output [[0.8717338]]\n",
      "26 day input [0.8218933  0.83019253 0.81965561 0.82387038 0.82932351 0.81848242\n",
      " 0.84103362 0.86971144 0.87905346 0.89912789 0.89906276 0.89015525\n",
      " 0.87711988 0.88189951 0.88713539 0.87410002 0.87744576 0.85843584\n",
      " 0.86973317 0.94794541 0.95357234 0.93249849 0.93936379 0.96745497\n",
      " 0.96315334 0.94029799 0.94490382 0.95435447 0.96495657 0.9554842\n",
      " 0.97088767 0.97471138 0.9754935  0.96893236 0.97132218 0.96745502\n",
      " 0.9792303  0.97579766 0.98755122 0.98477034 0.98915891 0.98140287\n",
      " 0.97097457 0.98878958 1.         0.99430789 0.99747983 0.99178771\n",
      " 0.98257605 0.97892615 0.97442894 0.94462139 0.93119495 0.93838613\n",
      " 0.93430172 0.94151462 0.95229053 0.95446309 0.94805404 0.98918064\n",
      " 0.99411236 0.9842272  0.98396649 0.97484173 0.97121355 0.96380511\n",
      " 0.9807511  0.9799907  0.97792677 0.97749225 0.9737989  0.96402237\n",
      " 0.97684049 0.96619493 0.95934618 0.95146734 0.94470721 0.93931073\n",
      " 0.93507075 0.93154866 0.92829812 0.92499787 0.92149395 0.91777718\n",
      " 0.91393    0.91006899 0.90630156 0.90270162 0.89930367 0.89611024\n",
      " 0.89310342 0.89025825 0.88755047 0.88496339 0.8824873  0.88011891\n",
      " 0.87785846 0.87570739 0.87366617 0.87173378]\n",
      "26 day output [[0.86990684]]\n",
      "27 day input [0.83019253 0.81965561 0.82387038 0.82932351 0.81848242 0.84103362\n",
      " 0.86971144 0.87905346 0.89912789 0.89906276 0.89015525 0.87711988\n",
      " 0.88189951 0.88713539 0.87410002 0.87744576 0.85843584 0.86973317\n",
      " 0.94794541 0.95357234 0.93249849 0.93936379 0.96745497 0.96315334\n",
      " 0.94029799 0.94490382 0.95435447 0.96495657 0.9554842  0.97088767\n",
      " 0.97471138 0.9754935  0.96893236 0.97132218 0.96745502 0.9792303\n",
      " 0.97579766 0.98755122 0.98477034 0.98915891 0.98140287 0.97097457\n",
      " 0.98878958 1.         0.99430789 0.99747983 0.99178771 0.98257605\n",
      " 0.97892615 0.97442894 0.94462139 0.93119495 0.93838613 0.93430172\n",
      " 0.94151462 0.95229053 0.95446309 0.94805404 0.98918064 0.99411236\n",
      " 0.9842272  0.98396649 0.97484173 0.97121355 0.96380511 0.9807511\n",
      " 0.9799907  0.97792677 0.97749225 0.9737989  0.96402237 0.97684049\n",
      " 0.96619493 0.95934618 0.95146734 0.94470721 0.93931073 0.93507075\n",
      " 0.93154866 0.92829812 0.92499787 0.92149395 0.91777718 0.91393\n",
      " 0.91006899 0.90630156 0.90270162 0.89930367 0.89611024 0.89310342\n",
      " 0.89025825 0.88755047 0.88496339 0.8824873  0.88011891 0.87785846\n",
      " 0.87570739 0.87366617 0.87173378 0.86990684]\n",
      "27 day output [[0.86818105]]\n",
      "28 day input [0.81965561 0.82387038 0.82932351 0.81848242 0.84103362 0.86971144\n",
      " 0.87905346 0.89912789 0.89906276 0.89015525 0.87711988 0.88189951\n",
      " 0.88713539 0.87410002 0.87744576 0.85843584 0.86973317 0.94794541\n",
      " 0.95357234 0.93249849 0.93936379 0.96745497 0.96315334 0.94029799\n",
      " 0.94490382 0.95435447 0.96495657 0.9554842  0.97088767 0.97471138\n",
      " 0.9754935  0.96893236 0.97132218 0.96745502 0.9792303  0.97579766\n",
      " 0.98755122 0.98477034 0.98915891 0.98140287 0.97097457 0.98878958\n",
      " 1.         0.99430789 0.99747983 0.99178771 0.98257605 0.97892615\n",
      " 0.97442894 0.94462139 0.93119495 0.93838613 0.93430172 0.94151462\n",
      " 0.95229053 0.95446309 0.94805404 0.98918064 0.99411236 0.9842272\n",
      " 0.98396649 0.97484173 0.97121355 0.96380511 0.9807511  0.9799907\n",
      " 0.97792677 0.97749225 0.9737989  0.96402237 0.97684049 0.96619493\n",
      " 0.95934618 0.95146734 0.94470721 0.93931073 0.93507075 0.93154866\n",
      " 0.92829812 0.92499787 0.92149395 0.91777718 0.91393    0.91006899\n",
      " 0.90630156 0.90270162 0.89930367 0.89611024 0.89310342 0.89025825\n",
      " 0.88755047 0.88496339 0.8824873  0.88011891 0.87785846 0.87570739\n",
      " 0.87366617 0.87173378 0.86990684 0.86818105]\n",
      "28 day output [[0.8665508]]\n",
      "29 day input [0.82387038 0.82932351 0.81848242 0.84103362 0.86971144 0.87905346\n",
      " 0.89912789 0.89906276 0.89015525 0.87711988 0.88189951 0.88713539\n",
      " 0.87410002 0.87744576 0.85843584 0.86973317 0.94794541 0.95357234\n",
      " 0.93249849 0.93936379 0.96745497 0.96315334 0.94029799 0.94490382\n",
      " 0.95435447 0.96495657 0.9554842  0.97088767 0.97471138 0.9754935\n",
      " 0.96893236 0.97132218 0.96745502 0.9792303  0.97579766 0.98755122\n",
      " 0.98477034 0.98915891 0.98140287 0.97097457 0.98878958 1.\n",
      " 0.99430789 0.99747983 0.99178771 0.98257605 0.97892615 0.97442894\n",
      " 0.94462139 0.93119495 0.93838613 0.93430172 0.94151462 0.95229053\n",
      " 0.95446309 0.94805404 0.98918064 0.99411236 0.9842272  0.98396649\n",
      " 0.97484173 0.97121355 0.96380511 0.9807511  0.9799907  0.97792677\n",
      " 0.97749225 0.9737989  0.96402237 0.97684049 0.96619493 0.95934618\n",
      " 0.95146734 0.94470721 0.93931073 0.93507075 0.93154866 0.92829812\n",
      " 0.92499787 0.92149395 0.91777718 0.91393    0.91006899 0.90630156\n",
      " 0.90270162 0.89930367 0.89611024 0.89310342 0.89025825 0.88755047\n",
      " 0.88496339 0.8824873  0.88011891 0.87785846 0.87570739 0.87366617\n",
      " 0.87173378 0.86990684 0.86818105 0.8665508 ]\n",
      "29 day output [[0.86501014]]\n",
      "[[0.9593461751937866], [0.9514673352241516], [0.9447072148323059], [0.9393107295036316], [0.9350707530975342], [0.9315486550331116], [0.9282981157302856], [0.924997866153717], [0.9214939475059509], [0.9177771806716919], [0.9139299988746643], [0.9100689888000488], [0.9063015580177307], [0.9027016162872314], [0.899303674697876], [0.8961102366447449], [0.8931034207344055], [0.890258252620697], [0.8875504732131958], [0.8849633932113647], [0.8824872970581055], [0.8801189064979553], [0.8778584599494934], [0.8757073879241943], [0.8736661672592163], [0.8717337846755981], [0.8699068427085876], [0.868181049823761], [0.8665508031845093], [0.865010142326355]]\n"
     ]
    }
   ],
   "source": [
    "# demonstrate prediction for next 30 days\n",
    "from numpy import array\n",
    "\n",
    "lst_output=[]\n",
    "n_steps=100\n",
    "i=0\n",
    "while(i<30):\n",
    "    \n",
    "    if(len(temp_input)>100):\n",
    "        #print(temp_input)\n",
    "        x_input=np.array(temp_input[1:])\n",
    "        print(\"{} day input {}\".format(i,x_input))\n",
    "        x_input=x_input.reshape(1,-1)\n",
    "        x_input = x_input.reshape((1, n_steps, 1))\n",
    "        #print(x_input)\n",
    "        yhat = model.predict(x_input, verbose=0)\n",
    "        print(\"{} day output {}\".format(i,yhat))\n",
    "        temp_input.extend(yhat[0].tolist())\n",
    "        temp_input=temp_input[1:]\n",
    "        #print(temp_input)\n",
    "        lst_output.extend(yhat.tolist())\n",
    "        i=i+1\n",
    "    else:\n",
    "        x_input = x_input.reshape((1, n_steps,1))\n",
    "        yhat = model.predict(x_input, verbose=0)\n",
    "        print(yhat[0])\n",
    "        temp_input.extend(yhat[0].tolist())\n",
    "        print(len(temp_input))\n",
    "        lst_output.extend(yhat.tolist())\n",
    "        i=i+1\n",
    "    \n",
    "\n",
    "print(lst_output)"
   ]
  },
  {
   "cell_type": "code",
   "execution_count": 43,
   "id": "4d65627c",
   "metadata": {},
   "outputs": [],
   "source": [
    "day_new=np.arange(1,101)\n",
    "day_pred=np.arange(101,131)"
   ]
  },
  {
   "cell_type": "code",
   "execution_count": 44,
   "id": "0d46f1b2",
   "metadata": {},
   "outputs": [],
   "source": [
    "import matplotlib.pyplot as plt\n"
   ]
  },
  {
   "cell_type": "code",
   "execution_count": 49,
   "id": "1846306c",
   "metadata": {},
   "outputs": [],
   "source": [
    "len_df1=len(df1)\n"
   ]
  },
  {
   "cell_type": "code",
   "execution_count": 50,
   "id": "ab3a71c8",
   "metadata": {},
   "outputs": [
    {
     "data": {
      "text/plain": [
       "array([[2931.23806798],\n",
       "       [2913.1054693 ],\n",
       "       [2897.54752543],\n",
       "       [2885.1278922 ],\n",
       "       [2875.3698833 ],\n",
       "       [2867.26402115],\n",
       "       [2859.78313249],\n",
       "       [2852.1878391 ],\n",
       "       [2844.12381561],\n",
       "       [2835.56993691],\n",
       "       [2826.71591731],\n",
       "       [2817.83007289],\n",
       "       [2809.15959467],\n",
       "       [2800.87458077],\n",
       "       [2793.05445606],\n",
       "       [2785.70498192],\n",
       "       [2778.78500558],\n",
       "       [2772.23705033],\n",
       "       [2766.00528557],\n",
       "       [2760.05130204],\n",
       "       [2754.35274007],\n",
       "       [2748.90205498],\n",
       "       [2743.69979548],\n",
       "       [2738.74925379],\n",
       "       [2734.05152732],\n",
       "       [2729.60428407],\n",
       "       [2725.39970501],\n",
       "       [2721.4279135 ],\n",
       "       [2717.67601497],\n",
       "       [2714.13029185]])"
      ]
     },
     "execution_count": 50,
     "metadata": {},
     "output_type": "execute_result"
    }
   ],
   "source": [
    "scaler.inverse_transform(lst_output)\n"
   ]
  },
  {
   "cell_type": "code",
   "execution_count": 51,
   "id": "bb129b6f",
   "metadata": {},
   "outputs": [
    {
     "data": {
      "image/png": "[encoded data removed]",
      "text/plain": [
       "<Figure size 640x480 with 1 Axes>"
      ]
     },
     "metadata": {},
     "output_type": "display_data"
    }
   ],
   "source": [
    "plt.plot(day_new,scaler.inverse_transform(df1[len_df1-100:]))\n",
    "plt.plot(day_pred,scaler.inverse_transform(lst_output))\n",
    "plt.savefig('30daypredict.png')"
   ]
  },
  {
   "cell_type": "code",
   "execution_count": 61,
   "id": "a7928608",
   "metadata": {},
   "outputs": [],
   "source": [
    "# Save the scaler parameters\n",
    "np.savez(\"scaler_parameters.npz\", min_=scaler.min_, scale_=scaler.scale_)"
   ]
  },
  {
   "cell_type": "code",
   "execution_count": 62,
   "id": "c81ce40a",
   "metadata": {},
   "outputs": [
    {
     "name": "stdout",
     "output_type": "stream",
     "text": [
      "Minimum value: [-0.31431327]\n",
      "Scale value: [0.00043451]\n"
     ]
    }
   ],
   "source": [
    "import numpy as np\n",
    "\n",
    "# Load the scaler parameters\n",
    "data = np.load(\"scaler_parameters.npz\")\n",
    "\n",
    "# Extract the scaler parameters\n",
    "min_ = data['min_']\n",
    "scale_ = data['scale_']\n",
    "\n",
    "print(\"Minimum value:\", min_)\n",
    "print(\"Scale value:\", scale_)\n"
   ]
  }
 ],
 "metadata": {
  "kernelspec": {
   "display_name": "Python 3 (ipykernel)",
   "language": "python",
   "name": "python3"
  },
  "language_info": {
   "codemirror_mode": {
    "name": "ipython",
    "version": 3
   },
   "file_extension": ".py",
   "mimetype": "text/x-python",
   "name": "python",
   "nbconvert_exporter": "python",
   "pygments_lexer": "ipython3",
   "version": "3.11.1"
  }
 },
 "nbformat": 4,
 "nbformat_minor": 5
}
