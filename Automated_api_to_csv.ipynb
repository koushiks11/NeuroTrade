{
 "cells": [
  {
   "cell_type": "code",
   "execution_count": 1,
   "id": "db71c5b8",
   "metadata": {},
   "outputs": [
    {
     "name": "stdout",
     "output_type": "stream",
     "text": [
      "Data has been written to reliance_stock_data.csv\n"
     ]
    }
   ],
   "source": [
    "import json\n",
    "import csv\n",
    "import requests\n",
    "\n",
    "# Fetch JSON data from the API\n",
    "response = requests.get(\"https://www.alphavantage.co/query?function=TIME_SERIES_DAILY_ADJUSTED&symbol=RELIANCE.BSE&outputsize=full&apikey=demo\")\n",
    "data = response.json()\n",
    "\n",
    "# Extract time series data\n",
    "time_series_data = data[\"Time Series (Daily)\"]\n",
    "\n",
    "# Sort the dates\n",
    "sorted_dates = sorted(time_series_data.keys())\n",
    "\n",
    "# Define CSV file name\n",
    "csv_filename = \"reliance_stock_data.csv\"\n",
    "\n",
    "# Define CSV header\n",
    "csv_header = [\n",
    "    \"Date\", \"open\", \"high\", \"low\", \"close\", \"adjusted close\", \"volume\", \"dividend amount\", \"split coefficient\"\n",
    "]\n",
    "\n",
    "# Write data to CSV file\n",
    "with open(csv_filename, mode='w', newline='') as file:\n",
    "    writer = csv.DictWriter(file, fieldnames=csv_header)\n",
    "    \n",
    "    # Write header\n",
    "    writer.writeheader()\n",
    "    \n",
    "    # Write data\n",
    "    for date in sorted_dates:\n",
    "        values = time_series_data[date]\n",
    "        row = {\n",
    "            \"Date\": date,\n",
    "            \"open\": values[\"1. open\"],\n",
    "            \"high\": values[\"2. high\"],\n",
    "            \"low\": values[\"3. low\"],\n",
    "            \"close\": values[\"4. close\"],\n",
    "            \"adjusted close\": values[\"5. adjusted close\"],\n",
    "            \"volume\": values[\"6. volume\"],\n",
    "            \"dividend amount\": values[\"7. dividend amount\"],\n",
    "            \"split coefficient\": values[\"8. split coefficient\"]\n",
    "        }\n",
    "        writer.writerow(row)\n",
    "\n",
    "print(f\"Data has been written to {csv_filename}\")\n"
   ]
  }
 ],
 "metadata": {
  "kernelspec": {
   "display_name": "Python 3 (ipykernel)",
   "language": "python",
   "name": "python3"
  },
  "language_info": {
   "codemirror_mode": {
    "name": "ipython",
    "version": 3
   },
   "file_extension": ".py",
   "mimetype": "text/x-python",
   "name": "python",
   "nbconvert_exporter": "python",
   "pygments_lexer": "ipython3",
   "version": "3.11.1"
  }
 },
 "nbformat": 4,
 "nbformat_minor": 5
}
